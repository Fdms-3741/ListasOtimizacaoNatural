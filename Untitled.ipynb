{
 "cells": [
  {
   "cell_type": "markdown",
   "id": "f499d641-d20a-4d8c-a43a-7f30c895064d",
   "metadata": {},
   "source": [
    "## Teste do algoritmo de metropolis\n",
    "\n",
    "Queremos validar a execução do algoritmo de metro"
   ]
  },
  {
   "cell_type": "code",
   "execution_count": 1,
   "id": "5fd5d4a1-a533-4a71-b421-7fb6dca9b74c",
   "metadata": {},
   "outputs": [],
   "source": [
    "import pandas as pd\n",
    "import numpy as np\n",
    "import scipy.stats as stats\n",
    "\n",
    "import matplotlib.pyplot as plt\n",
    "\n",
    "from AlgoritmoMetropolis import AlgoritmoMetropolisHastings,DistribuicaoBoltzmann"
   ]
  },
  {
   "cell_type": "code",
   "execution_count": 21,
   "id": "966ff351-fddf-4d33-9ade-aa351b0440ac",
   "metadata": {},
   "outputs": [],
   "source": [
    "def TesteDistribuicao(dados,range,bins,pValMin,cdf=stats.norm.cdf):\n",
    "    \"\"\"\n",
    "    Essa função recebe os dados gerados por um RNG e faz um teste de hipótese que assume como\n",
    "    hipótese nula que esses dados foram gerados a partir da distribuição dada.\n",
    "    \"\"\"\n",
    "    binsLimits = np.linspace(*range,bins) \n",
    "    binarizedValues = binsLimits[np.digitize(dados,binsLimits)-1]\n",
    "    valores,dist = np.unique(binarizedValues,return_counts=True) \n",
    "    dist = dist/np.sum(dist) # Normaliza a distribuição (calcula a densidade)\n",
    "    # Gera o gráfico e insere a distribuição\n",
    "    plt.grid(True)\n",
    "    plt.plot(valores,np.cumsum(dist),drawstyle=\"steps-post\",color=\"orange\",label='rvs')\n",
    "    xAxis = np.linspace(*range,bins*100)\n",
    "    #print(valores)\n",
    "    #print(np.cumsum(dist))\n",
    "    plt.plot(xAxis,cdf(xAxis),drawstyle=\"steps-post\",color=\"blue\",label='cdf')\n",
    "    plt.legend(['Dados do RNG','Distribuição'])\n",
    "    pValue = stats.kstest(dados,cdf)[1]\n",
    "    if pValMin > pValue:\n",
    "        plt.title(f\"$H_0$ rejeitado (p={pValue:.3f})\")\n",
    "    else:\n",
    "        plt.title(f\"$H_0$ não rejeitado (p={pValue:.3f})\")"
   ]
  },
  {
   "cell_type": "code",
   "execution_count": 37,
   "id": "ca03861e-c30f-48f8-b192-e7411b7e32dd",
   "metadata": {},
   "outputs": [
    {
     "name": "stdout",
     "output_type": "stream",
     "text": [
      "CPU times: user 1.59 s, sys: 3.34 ms, total: 1.6 s\n",
      "Wall time: 1.59 s\n"
     ]
    },
    {
     "data": {
      "text/plain": [
       "(0.05784529624694551, 0.6942630382877614)"
      ]
     },
     "execution_count": 37,
     "metadata": {},
     "output_type": "execute_result"
    }
   ],
   "source": [
    "%%time\n",
    "# Gerando um RNG que segue a distribuição normal\n",
    "T = 1\n",
    "\n",
    "def NormalDistribution(x):\n",
    "    return (np.exp(-np.power(x,2)/2)/(np.sqrt(2*np.pi)))\n",
    "    \n",
    "epsilon = 0.5\n",
    "N = 10**5\n",
    "numerosSaida = 10**4\n",
    "\n",
    "x = np.random.uniform(-0.5,.5,size=(1,))\n",
    "data,_,_,_ = AlgoritmoMetropolisHastings(\n",
    "    x,pdf,N,epsilon,numerosSaida#,passoSalvarProgressao=200,R=np.random.choice,Rargs=([-1,1],)\n",
    ")\n",
    "\n",
    "#TesteDistribuicao(data[:,0],(-3,3),200,0.05)\n",
    "TesteDistribuicao(data[:,0],(-3,3),300,0.05stats.norm.fit(data[:,0])"
   ]
  },
  {
   "cell_type": "code",
   "execution_count": null,
   "id": "a1e85cbc-eba4-498d-acf6-83013dad9420",
   "metadata": {},
   "outputs": [],
   "source": []
  },
  {
   "cell_type": "code",
   "execution_count": null,
   "id": "48c6790b-6838-4d13-9b65-248b4f7488aa",
   "metadata": {},
   "outputs": [],
   "source": []
  },
  {
   "cell_type": "code",
   "execution_count": null,
   "id": "f2e9accf-bcb3-4173-bfe0-bb7fd02d78e8",
   "metadata": {},
   "outputs": [],
   "source": []
  }
 ],
 "metadata": {
  "kernelspec": {
   "display_name": "Python 3 (ipykernel)",
   "language": "python",
   "name": "python3"
  },
  "language_info": {
   "codemirror_mode": {
    "name": "ipython",
    "version": 3
   },
   "file_extension": ".py",
   "mimetype": "text/x-python",
   "name": "python",
   "nbconvert_exporter": "python",
   "pygments_lexer": "ipython3",
   "version": "3.9.18"
  }
 },
 "nbformat": 4,
 "nbformat_minor": 5
}
