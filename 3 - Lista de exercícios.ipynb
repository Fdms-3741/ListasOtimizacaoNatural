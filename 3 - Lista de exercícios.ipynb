{
 "cells": [
  {
   "cell_type": "markdown",
   "id": "8f80114e-5584-4072-b66c-7bad4cd93d3e",
   "metadata": {},
   "source": [
    "# 3º lista de exercícios"
   ]
  },
  {
   "cell_type": "code",
   "execution_count": null,
   "id": "f39f1afa-4431-4527-ac76-6d6306cd5136",
   "metadata": {},
   "outputs": [],
   "source": []
  }
 ],
 "metadata": {
  "kernelspec": {
   "display_name": "Python 3 (ipykernel)",
   "language": "python",
   "name": "python3"
  },
  "language_info": {
   "codemirror_mode": {
    "name": "ipython",
    "version": 3
   },
   "file_extension": ".py",
   "mimetype": "text/x-python",
   "name": "python",
   "nbconvert_exporter": "python",
   "pygments_lexer": "ipython3",
   "version": "3.9.18"
  }
 },
 "nbformat": 4,
 "nbformat_minor": 5
}
