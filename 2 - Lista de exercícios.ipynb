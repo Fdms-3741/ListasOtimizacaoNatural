{
 "cells": [
  {
   "cell_type": "markdown",
   "id": "6e673647-098f-45d2-869d-e47621ac5cdb",
   "metadata": {},
   "source": [
    "# Otimização Natural - 2º Lista de Exercícios\n",
    "\n",
    "Aluno: Fernando Dias\n",
    "\n",
    "Para essa lista de exercício, foram utilizados as seguintes bibliotecas:"
   ]
  },
  {
   "cell_type": "code",
   "execution_count": 35,
   "id": "7847a779-e598-4b38-b0a7-14d1db4e7741",
   "metadata": {},
   "outputs": [],
   "source": [
    "import numpy as np\n",
    "import scipy as sp\n",
    "import matplotlib.pyplot as plt"
   ]
  },
  {
   "cell_type": "markdown",
   "id": "7d20ddf7-800d-493b-a468-9838f0ed0da9",
   "metadata": {},
   "source": [
    "# Questão 1\n",
    "\n",
    "Nessa questão, temos a matriz de transição $M$:"
   ]
  },
  {
   "cell_type": "code",
   "execution_count": 36,
   "id": "d8482afa-e994-4b55-bc44-c4c9f667159b",
   "metadata": {},
   "outputs": [],
   "source": [
    "M = np.array([\n",
    "    [.5,.25,.25],\n",
    "    [.25,.5,.25],\n",
    "    [.25,.25,.5]\n",
    "])"
   ]
  },
  {
   "cell_type": "markdown",
   "id": "0263c6c4-5cc2-488b-91e1-482eee961d60",
   "metadata": {},
   "source": [
    "## Item 1-a\n",
    "\n",
    "Dado que a probabilidade em $X(0)$ é dada pela matriz $p_0=\\begin{bmatrix}0.3&0.4&0.3\\end{bmatrix}^T$, podemos calcular a probabilidade em $p_3$ segundo a equação: $$p_3=M^3p_0$$. Assim, temos:"
   ]
  },
  {
   "cell_type": "code",
   "execution_count": 37,
   "id": "aec958a2-df22-45c7-86a3-5dc8b6bbc91e",
   "metadata": {},
   "outputs": [
    {
     "data": {
      "text/plain": [
       "array([[0.3328125],\n",
       "       [0.334375 ],\n",
       "       [0.3328125]])"
      ]
     },
     "execution_count": 37,
     "metadata": {},
     "output_type": "execute_result"
    }
   ],
   "source": [
    "p0 = np.array([[.3,.4,.3]]).T\n",
    "resultado = M@M@M@p0 # O Operador @ representa multiplicação de matrizes\n",
    "resultado"
   ]
  },
  {
   "cell_type": "markdown",
   "id": "6f7e0144-75d1-4922-923f-05862f3b1439",
   "metadata": {},
   "source": [
    "## Item 1-b\n",
    "\n",
    "Dado que $X(0)=1$, podemos calcular a probabilidade de estar em qualquer outro estado em $X(3)$ da mesma forma:"
   ]
  },
  {
   "cell_type": "code",
   "execution_count": 38,
   "id": "e09a166d-7710-4822-87e3-0d7249a883bd",
   "metadata": {},
   "outputs": [
    {
     "data": {
      "text/plain": [
       "array([[0.328125],\n",
       "       [0.34375 ],\n",
       "       [0.328125]])"
      ]
     },
     "execution_count": 38,
     "metadata": {},
     "output_type": "execute_result"
    }
   ],
   "source": [
    "p0 = np.array([[0,1,0]]).T\n",
    "resultado = M@M@M@p0\n",
    "resultado"
   ]
  },
  {
   "cell_type": "markdown",
   "id": "5bebf6f8-5cd6-4b67-aa76-0faf1cdd5f41",
   "metadata": {},
   "source": [
    "Assim, fazemos um sorteio e definimos o estado atual:"
   ]
  },
  {
   "cell_type": "code",
   "execution_count": 39,
   "id": "28643286-9a5a-47c5-b61c-da6a27031d80",
   "metadata": {},
   "outputs": [
    {
     "name": "stdout",
     "output_type": "stream",
     "text": [
      "X(3) = 1\n"
     ]
    }
   ],
   "source": [
    "valoresSorteio = np.cumsum(resultado.T) # Calcula a CDF dessas probabilidades\n",
    "resultadoSorteio = np.random.uniform(0,1) # Sorteia um valor entre 0 e 1\n",
    "print(\"X(3) =\", np.argmax(resultadoSorteio < valoresSorteio)) # Com base no sorteio, diz qual o estado atual"
   ]
  },
  {
   "cell_type": "markdown",
   "id": "7848e80e-10d8-4a60-bbb8-a8233fb34d32",
   "metadata": {},
   "source": [
    "# Item 1-c\n",
    "\n",
    "Devemos repetir o processo acima 100 vezes e registrar as mudanças de estado em cada sorteio. Para isso, vamos definir uma matriz $P_0\\in\\{0,1\\}^{100\\times 3}$ que contém a probabilidade de estar em um estado no momento $X(0)$. Essa matriz define a presença em um estado como 1 e os outros estados como 0."
   ]
  },
  {
   "cell_type": "code",
   "execution_count": 102,
   "id": "5a4dbe82-808d-48bb-a75f-1cf543fb67d7",
   "metadata": {},
   "outputs": [
    {
     "data": {
      "text/plain": [
       "(100, 3)"
      ]
     },
     "execution_count": 102,
     "metadata": {},
     "output_type": "execute_result"
    }
   ],
   "source": [
    "P0 = np.random.randint(0,2,size=(3,1000)) # Sorteando os estados iniciais aleatoriamente\n",
    "P0 = P0[:,P0.sum(axis=0)==1][:,:100] # Mantendo apenas 100 amostras cujo vetor contenha apenas um elemento 1 e o resto 0\n",
    "P0 = P0.T\n",
    "P0.shape"
   ]
  },
  {
   "cell_type": "markdown",
   "id": "9b352a0b-7fd9-4de6-93df-05a825daa1cc",
   "metadata": {},
   "source": [
    "O próximo passo é definir como fazer uma realização do processo de markov e definir os valores da matriz $P_1$. Para isso, foi construída uma função que faz a multiplicação da matriz de transição $M$ com cada vetor-linha de uma matriz de probabilidade $P$, realiza o mesmo tipo de sorteio para cada vetor-linha e constrói a matriz de transição"
   ]
  },
  {
   "cell_type": "code",
   "execution_count": 99,
   "id": "c900b71f-a270-477f-9708-2cfc842ca72f",
   "metadata": {},
   "outputs": [
    {
     "data": {
      "text/plain": [
       "(100, 3, 1)"
      ]
     },
     "execution_count": 99,
     "metadata": {},
     "output_type": "execute_result"
    }
   ],
   "source": [
    "def PassoMarkovMultiplosVetores(M,P):\n",
    "    \"\"\"\n",
    "    Essa função pega uma matriz de transição M e uma lista de vetores P e realiza um passo na cadeia de markov definida por M.\n",
    "    O resultado é um vetor de mesma dimensão de P com a probabilidade já definida como 1 no estado seguinte a P e 0 nos outros.\n",
    "    \"\"\"\n",
    "    # Essa função faz a multiplicação de matriz para todos os 100 vetores\n",
    "    ProbabilidadesDoProximoEstado = np.einsum(\"ji,kil->kjl\",M,P)\n",
    "    # Essa faz o sorteio e define o indice do estado para \n",
    "    ProximoEstado = np.argmax(np.random.uniform(0,1,size=(100,1,1)) < np.cumsum(ProbabilidadesDoProximoEstado,axis=1),axis=1)\n",
    "    # Essa matriz reescreve as probabilidades do próximo passo \n",
    "    return np.eye(3)[ProximoEstado.T[0]][:,:,np.newaxis]\n"
   ]
  },
  {
   "cell_type": "code",
   "execution_count": 96,
   "id": "8e4a46e1-c6f5-456b-a821-a58d46590bde",
   "metadata": {},
   "outputs": [
    {
     "data": {
      "text/plain": [
       "(100, 3, 1)"
      ]
     },
     "execution_count": 96,
     "metadata": {},
     "output_type": "execute_result"
    }
   ],
   "source": [
    "P0.shape"
   ]
  },
  {
   "cell_type": "code",
   "execution_count": null,
   "id": "2b9febb1-c5ce-4939-aedc-3f586adaae95",
   "metadata": {},
   "outputs": [],
   "source": []
  }
 ],
 "metadata": {
  "kernelspec": {
   "display_name": "Python 3 (ipykernel)",
   "language": "python",
   "name": "python3"
  },
  "language_info": {
   "codemirror_mode": {
    "name": "ipython",
    "version": 3
   },
   "file_extension": ".py",
   "mimetype": "text/x-python",
   "name": "python",
   "nbconvert_exporter": "python",
   "pygments_lexer": "ipython3",
   "version": "3.11.6"
  }
 },
 "nbformat": 4,
 "nbformat_minor": 5
}
