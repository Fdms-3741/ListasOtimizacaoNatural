{
 "cells": [
  {
   "cell_type": "markdown",
   "id": "0df12d67-71cb-4e49-92a2-dbb57595eecb",
   "metadata": {},
   "source": [
    "# Viabilidade do S.A. para problemas com grafos\n",
    "\n",
    "Esse documento estuda a viabilidade do S.A. para problemas com grafos.\n",
    "\n",
    "O problema principal é a definição da variável de estado. A variável de estado deve ser tal que aceite uma pertubação aleatória com distribuição gaussiana ou de cauchy e que permita que essa pertubação, na maioria das vezes, seja tal que o próximo estado permaneça no conjunto viável.\n",
    "\n",
    "Para executar esse notebook, são necessárias as seguintes bibliotecas:"
   ]
  },
  {
   "cell_type": "code",
   "execution_count": 111,
   "id": "f9ca68f8-bd5e-4237-84f7-69f54d40a9e4",
   "metadata": {},
   "outputs": [],
   "source": [
    "#Padrão\n",
    "import time\n",
    "\n",
    "# 3th party\n",
    "import pandas as pd\n",
    "import numpy as np\n",
    "import matplotlib.pyplot as plt\n",
    "import seaborn as sns"
   ]
  },
  {
   "cell_type": "markdown",
   "id": "8cfe089d-44f3-4c9c-85be-b3304a22885c",
   "metadata": {},
   "source": [
    "### Definição do grafo\n",
    "\n",
    "O código abaixo gera um grafo com `numeroNos` nós e uma razão `razaoEnlacesPorNo`. Para isso, são definidas as funções:\n"
   ]
  },
  {
   "cell_type": "code",
   "execution_count": 67,
   "id": "086288ce-be6f-45bf-8677-f37c78e370c1",
   "metadata": {},
   "outputs": [],
   "source": [
    "def shuffle_along_axis(a, axis):\n",
    "    \"\"\"\n",
    "    Embaralha a ordem dos valores de uma matriz em uma dimensão. O embaralhamento é diferente para cada elemento da dimensão da matriz.\n",
    "    \"\"\"\n",
    "    idx = np.random.rand(*a.shape).argsort(axis=axis)\n",
    "    return np.take_along_axis(a,idx,axis=axis)\n",
    "\n",
    "def add_zero_valued_diagonal(a):\n",
    "    \"\"\"\n",
    "    Adiciona uma diagonal de valor nulo a uma matriz\n",
    "    \"\"\"\n",
    "    teste = np.concatenate([np.zeros((1,a.shape[1])),a])\n",
    "    for i in range(teste.shape[0]):\n",
    "        teste[:,i] = np.roll(teste[:,i],i)\n",
    "    return teste"
   ]
  },
  {
   "cell_type": "code",
   "execution_count": 137,
   "id": "29805ce9-159e-4ef8-97c6-30898adb547b",
   "metadata": {},
   "outputs": [],
   "source": [
    "def CriarMatrizCustoGrafo(numeroNos,proporcaoEnlaces,simetrico=False,deterministico=False,seed=1):\n",
    "    \n",
    "    # Trava os resultados aleatorios para geração da matriz\n",
    "    if deterministico:\n",
    "        np.random.seed(seed)\n",
    "    \n",
    "    # Gera uma matriz de custo considerando um grafo completamente conectado\n",
    "    C = np.random.randint(1,20,size=(numeroNos,numeroNos))\n",
    "    \n",
    "    # Gera um filtro para a matriz de custo que depende do número de enlaces\n",
    "    filtroEnlaces = np.concatenate([np.zeros((proporcaoEnlaces,numeroNos)),np.ones((numeroNos-proporcaoEnlaces-1,numeroNos))])\n",
    "    filtroEnlaces = shuffle_along_axis(filtroEnlaces,0)*1e20\n",
    "    filtroEnlaces = add_zero_valued_diagonal(filtroEnlaces)\n",
    "    filtroEnlaces\n",
    "    \n",
    "    # Aplica o filtro a função custo\n",
    "    C = (C+filtroEnlaces)*(1-np.eye(numeroNos))\n",
    "    \n",
    "    # Transforma a matriz em uma matriz simétrica para o caso de grafos não direcionados\n",
    "    if simetrico == True:\n",
    "        C = np.triu(C) + np.triu(C).T\n",
    "    \n",
    "    # Reinicia o gerador em um valor qualquer\n",
    "    if deterministico:\n",
    "        np.random.seed(np.floor(time.time()*10**6))\n",
    "    \n",
    "    return C"
   ]
  },
  {
   "cell_type": "markdown",
   "id": "30d753fb-7d69-4d94-86d9-cf2946b6b1aa",
   "metadata": {},
   "source": [
    "A matriz de custo tem as seguintes características:\n",
    "* $c_{ii}=0\\forall i \\in I={1,\\dots,N}$\n",
    "* $c_{ij}\\forall i\\neq j$ tem o custo normal (O.G. 10^1) para o caso da matriz possuir um enlace entre i e j\n",
    "* $c_{ij}\\forall i\\neq j$ tem o custo elevadíssimo (O.G. 10^20) para o caso da matriz não possuir um enlace entre i e j\n",
    "\n"
   ]
  },
  {
   "cell_type": "markdown",
   "id": "b34bd5ae-24c3-45bf-aee6-29204bb8d78e",
   "metadata": {},
   "source": [
    "# Definição do domínio\n",
    "\n",
    "Para um grafo com $N$ vértices e $M$ arestas, vamos definir um vetor de fluxos nas arestas $\\vec{a}\\in\\mathbb{R}^M$. Vamos supor que o grafo é densamente conectado, ou seja, $M\\gg N$. Escrevemos um sistema sub-determinado da seguinte forma:\n",
    "$$\\begin{bmatrix}F_{0}\\\\ F_{c}\\end{bmatrix}\\vec{a}=\\begin{bmatrix}\\vec{0}\\\\ \\vec{c}\\end{bmatrix}$$\n",
    "\n",
    "A matriz $F_{0}$ representa a conservação de fluxo para os nós intermediários, ou seja, aqueles que não são nem fonte e nem destino de um grafo. Já a matriz $F_c$ representa a conservação de fluxo para nós que são origem ou destino, onde para cada linha de $F_c$, o valor do elemento em $\\vec{c}$ correspondente é\n",
    "$$c_i=\\begin{cases}+f_i\\text{, soma dos fluxos que saem de }i\\\\ -f_i\\text{, soma dos fluxos que entram em }i\\end{cases}$$\n",
    "\n",
    "Cada linha de $F_0$ define um nó na qual a soma dos fluxos dos vértices entrando no nó devem se igualar a soma dos vértices saindo do nó. Portanto o número de linhas de $F_0$ é igual ao número de nós intermediários. Já o número de linhas de $F_c$ será igual ao número de vértices que são ou fonte ou destino de algum contrato. Assim, sabemos que a matriz $\\begin{bmatrix}F_{0}\\\\ F_{c}\\end{bmatrix}$ sempre será de ordem $\\{0,1\\}^{N\\times M}$.\n",
    "\n",
    "Objetivo: Quero encontrar (ou definir) $\\vec{a}_i$ arestas independentes para que eu possa alterar o valor livremente e definir uma transformação linear $T$ na qual $T\\vec{a}_i=\\vec{a}$.\n",
    "\n",
    "\n",
    "# Devaneios\n",
    "\n",
    "* Vamos manter apenas a conservação de fluxo como restrição e passar as condições de contrato para a função custo. É possível definir na função de custo uma distância entre o fluxo determinado dos contratos e o fluxo atual.\n",
    "* "
   ]
  },
  {
   "cell_type": "code",
   "execution_count": null,
   "id": "45b86346-b3eb-4bc4-bad9-45a2fdbaca15",
   "metadata": {},
   "outputs": [],
   "source": []
  },
  {
   "cell_type": "code",
   "execution_count": null,
   "id": "0394e493-4fd0-48e6-b086-e61c9e18d765",
   "metadata": {},
   "outputs": [],
   "source": []
  }
 ],
 "metadata": {
  "kernelspec": {
   "display_name": "Python 3 (ipykernel)",
   "language": "python",
   "name": "python3"
  },
  "language_info": {
   "codemirror_mode": {
    "name": "ipython",
    "version": 3
   },
   "file_extension": ".py",
   "mimetype": "text/x-python",
   "name": "python",
   "nbconvert_exporter": "python",
   "pygments_lexer": "ipython3",
   "version": "3.9.18"
  }
 },
 "nbformat": 4,
 "nbformat_minor": 5
}
