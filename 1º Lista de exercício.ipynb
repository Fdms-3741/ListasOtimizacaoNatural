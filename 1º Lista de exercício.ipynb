{
 "cells": [
  {
   "cell_type": "markdown",
   "id": "54345f92-e926-4ad5-9264-c62d3fb5a5e6",
   "metadata": {},
   "source": [
    "# Otimização Natural - 1º Lista de exercícios\n",
    "Aluno: Fernando Dias\n",
    "\n",
    "Para essa lista de exercícios, foram utilizadas as seguintes bibliotecas:"
   ]
  },
  {
   "cell_type": "code",
   "execution_count": 1,
   "id": "8a623cac-dc1a-47a5-9db2-c3a73f7ae5ec",
   "metadata": {},
   "outputs": [],
   "source": [
    "\n",
    "# Bibliotecas do pip\n",
    "import numpy as np\n",
    "import matplotlib.pyplot as plt\n",
    "import matplotlib.animation as animation\n",
    "import scipy.stats as stats\n",
    "\n",
    "# Código escrito\n",
    "from AlgoritmoMetropolis import AlgoritmoMetropolisHastings,DistribuicaoBoltzmann"
   ]
  },
  {
   "cell_type": "markdown",
   "id": "646cdee2-fdce-41e8-a641-f7779389d740",
   "metadata": {},
   "source": [
    "## 1 - Método de Monte Carlo\n",
    "\n",
    "Para calcular o resultado numérico da integral $\\int_Q f(x) dx$ com o método de Monte Carlo, calcula-se a média dos valores de $f(x)$ com $x$ sendo sorteado uniformemente de $Q$. \n",
    "\n",
    "### Item 1-a\n",
    "\n",
    "Utilizando os três números dados na questão, o método de monte-carlo resulta em:"
   ]
  },
  {
   "cell_type": "code",
   "execution_count": 2,
   "id": "9235c8c4-7fa7-47d9-b8b7-2893bcf02d24",
   "metadata": {},
   "outputs": [
    {
     "data": {
      "text/plain": [
       "0.3644719103879999"
      ]
     },
     "execution_count": 2,
     "metadata": {},
     "output_type": "execute_result"
    }
   ],
   "source": [
    "# Usa os três valores dados da questão\n",
    "a = np.array([0.9501,0.2311,0.6068])\n",
    "# Aplica a função x^3 em cada resultado\n",
    "a = a**3\n",
    "# Tira o valor médio\n",
    "np.mean(a)"
   ]
  },
  {
   "cell_type": "markdown",
   "id": "c84b7301-d03d-4471-a085-44fa0899aa1e",
   "metadata": {},
   "source": [
    "### Item 1-b\n",
    "\n",
    "Dada que a distribuição utilizada é exponencial, o resultado da integração é equivalente a $\\frac{1}{N}\\sum x_i^2$ dos valores utilizados. Porém, como os limites de integração são $[0,1]$, os valores maiores que 1 devem ser descartados no somatório. Isso resulta no seguinte valor:"
   ]
  },
  {
   "cell_type": "code",
   "execution_count": 3,
   "id": "c317fbed-0359-46bb-a33c-606ba261739a",
   "metadata": {},
   "outputs": [
    {
     "data": {
      "text/plain": [
       "0.12512536157475002"
      ]
     },
     "execution_count": 3,
     "metadata": {},
     "output_type": "execute_result"
    }
   ],
   "source": [
    "a = np.array([0.0512,0.4995,0.7216])\n",
    "np.sum(a**3)/4"
   ]
  },
  {
   "cell_type": "markdown",
   "id": "66f2545d-0361-4fef-a9ca-818591d285cd",
   "metadata": {},
   "source": [
    "## Questão 2 - Algoritmo de metrópolis\n",
    "\n",
    "Temos $X\\in{1,2,3,4,5}$, $J(x)=(x-3)^2$ e $T=1$.\n",
    "\n",
    "### Item 2-a\n",
    "\n",
    "Os fatores de Boltzmann para cada valor de $x$ é:"
   ]
  },
  {
   "cell_type": "code",
   "execution_count": 4,
   "id": "5cfeba5f-d15d-4c60-accb-7dd7a79908eb",
   "metadata": {},
   "outputs": [
    {
     "data": {
      "text/plain": [
       "array([0.01831564, 0.36787944, 1.        , 0.36787944, 0.01831564])"
      ]
     },
     "execution_count": 4,
     "metadata": {},
     "output_type": "execute_result"
    }
   ],
   "source": [
    "T = 1\n",
    "x = np.array([1,2,3,4,5]) # Valores de X\n",
    "J = lambda x: (x-3)**2 # Função custo\n",
    "termos = np.exp(-J(x)/T) # Resultado\n",
    "termos"
   ]
  },
  {
   "cell_type": "markdown",
   "id": "7ed9c277-3df6-4e4b-8a58-a09126418513",
   "metadata": {},
   "source": [
    "### Item 2-b\n",
    "\n",
    "O algoritmo proposto serve para gerar números aleatórios que seguem qualquer distribuição discreta. Nesse caso, a distribuição de Boltzmann-Gibbs é formada com os termos $\\exp(-J(x)/T)$ que já foram calculados no item anterior. \n",
    "\n",
    "Podemos criar um gerador de números aleatórios que utiliza a função de distribuição cumulativa. A função tem a forma:"
   ]
  },
  {
   "cell_type": "code",
   "execution_count": 5,
   "id": "6800471b-8421-4c93-9765-ceea3644d95b",
   "metadata": {},
   "outputs": [
    {
     "data": {
      "text/plain": [
       "4"
      ]
     },
     "execution_count": 5,
     "metadata": {},
     "output_type": "execute_result"
    }
   ],
   "source": [
    "# Calcula-se os pesos de cada estado em termos de densidade\n",
    "densidade = termos/np.sum(termos)\n",
    "# Calcula-se a densidade cumulativa (cdf) da distribuição\n",
    "densidadeCumulativa = np.cumsum(densidade)\n",
    "# Sorteia-se um número de uma distribuição uniforme entre 0 e 1\n",
    "amostraUniforme = np.random.uniform(0,1)\n",
    "# Compara-se esse valor com o valor da CDF\n",
    "resultado = np.argmax(amostraUniforme < densidadeCumulativa)+1\n",
    "\n",
    "resultado"
   ]
  },
  {
   "cell_type": "markdown",
   "id": "b41811f5-f11b-4b7e-aa85-136ba222819a",
   "metadata": {},
   "source": [
    "Podemos utilizar também o algoritmo de metrópolis para obter esses números aleatórios. Nessa questão definimos a função do Algoritmo que será utilizada nas questões subsequentes:"
   ]
  },
  {
   "cell_type": "code",
   "execution_count": 6,
   "id": "633756a6-522c-4109-add0-63632b725c0d",
   "metadata": {},
   "outputs": [
    {
     "data": {
      "text/plain": [
       "<StemContainer object of 3 artists>"
      ]
     },
     "execution_count": 6,
     "metadata": {},
     "output_type": "execute_result"
    },
    {
     "data": {
      "image/png": "[encoded data removed]",
      "text/plain": [
       "<Figure size 640x480 with 1 Axes>"
      ]
     },
     "metadata": {},
     "output_type": "display_data"
    }
   ],
   "source": [
    "# Método de geração de valores aleatórios\n",
    "# (Mesmo que a célula anterior, só que vetorialmente)\n",
    "N = 1000\n",
    "valoresUniformes = np.random.uniform(0,1,size=(N,1))\n",
    "distribuicaoFormada = np.argmax(valoresUniformes < densidadeCumulativa[np.newaxis,:],axis=1)+1\n",
    "# Conta quantos números cairam em cada estado\n",
    "valores,dist = np.unique(distribuicaoFormada,return_counts=True) \n",
    "dist = dist/np.sum(dist) # Normaliza a distribuição (calcula a densidade)\n",
    "# Gera o gráfico e insere a distribuição\n",
    "plt.grid(True)\n",
    "plt.stem(dist,basefmt=\" \")\n",
    "# Insere o resultado analítico em vermelho\n",
    "plt.stem(densidade,basefmt=\" \",markerfmt='r')"
   ]
  },
  {
   "cell_type": "markdown",
   "id": "61925fb9-144e-4c26-acc8-7b8ac23e6e61",
   "metadata": {},
   "source": [
    "## Questão 3\n",
    "\n",
    "Para gerar os estados do sistema com custo \n",
    "\n",
    "**Observação importante**: Nesse arquivo, a função do algoritmo de Metropolis usada é a variação `AlgoritmoMetropolisHastings`, que recebe qualquer função densidade de probabilidade (para um teste do algoritmo no apêndice). Para que essa função seja equivalente ao algoritmo de Metropolis visto em aula, a pdf a ser definida deve ser definida em termos da distribuição de Boltzmann. Isso é feito com uma função auxiliar chamada `DistribuicaoBoltzmann` que recebe uma função custo $J(x)$ e retorna a função da pdf $e^{-J(x)/T}$."
   ]
  },
  {
   "cell_type": "code",
   "execution_count": 7,
   "id": "c3d12a37-1016-4890-a3bd-04686d07aa7e",
   "metadata": {},
   "outputs": [
    {
     "name": "stdout",
     "output_type": "stream",
     "text": [
      "CPU times: user 1.32 s, sys: 8.55 ms, total: 1.33 s\n",
      "Wall time: 1.32 s\n"
     ]
    }
   ],
   "source": [
    "%%time\n",
    "\n",
    "# Definição das variáveis\n",
    "T = .1\n",
    "FuncaoCusto = lambda x: (x**2)[0]\n",
    "pdf = DistribuicaoBoltzmann(FuncaoCusto,T)\n",
    "epsilon = .1\n",
    "x = np.random.uniform(-1,1,size=(1,))\n",
    "N = 10**5\n",
    "numerosSaida = 1\n",
    "\n",
    "# Execução do algoritmo de Metropolis-Hastings\n",
    "res = AlgoritmoMetropolisHastings(\n",
    "    x,             # Estado inicial\n",
    "    pdf,           # PDF a ser seguida (Nesse caso, T implícito)\n",
    "    N,             # Nº de iterações **antes de salvar os números**\n",
    "    epsilon,       # fator multiplicativo da caminhada aleatória\n",
    "    numerosSaida   # Nº de estados a salvar depois de N iterações\n",
    ")\n",
    "\n",
    "# Recebe o valor gerado aleatoriamente\n",
    "data = res['xOut']"
   ]
  },
  {
   "cell_type": "markdown",
   "id": "a32fee92-7042-4d3c-9ffb-1560a3ffe221",
   "metadata": {},
   "source": [
    "## Questão 4\n",
    "\n",
    "Para essa questão, é necessário que a função de pertubação $R$ seja simétrica $\\mu_R=0$. Então a função proposta é remapeada para ${-1,1}$, ambos com $p(R=-1)=p(R=1)=0.5$\n",
    "\n",
    "### Item 4-a\n",
    "\n",
    "Como o algoritmo de metrópolis compara os estados em função da distribuição de boltzmann $f_X^{[B]}(x)=e^{-J(x)/T}$, devemos definir $J(x)$ de modo que $f_X^{[B]}(x)=f_X(x)$ qualquer.\n",
    "\n",
    "Ao definir $J(x)=-T.\\ln(f_X(x))$, temos:\n",
    "\n",
    "$$f_X^{[B]}(x)=e^{\\frac{-(-T\\ln(f_X(x)))}{T}}=e^{\\ln(f_X(x))}=f_X(x)$$\n",
    "\n",
    "### Item 4-b\n",
    "\n",
    "Para fazer com que o algoritmo de metropolis gere uma função arbitrária, basta fazer a operação inversa no item 4-a. Para a implementação do algoritmo segundo a variação Metropolis-Hastings, isso é equivalente a não passar a função custo pela função `DistribuicaoBoltzmann`.\n",
    "\n",
    "Podemos ver um exemplo de execução abaixo para $X\\prop \\mathcal{N}(0,1)$"
   ]
  },
  {
   "cell_type": "code",
   "execution_count": 8,
   "id": "8c442359-ee2f-459a-8f7d-fa766355b663",
   "metadata": {},
   "outputs": [
    {
     "data": {
      "image/png": "[encoded data removed]",
      "text/plain": [
       "<Figure size 640x480 with 1 Axes>"
      ]
     },
     "metadata": {},
     "output_type": "display_data"
    }
   ],
   "source": [
    "FuncaoCusto = lambda x: np.exp(-(x**2))[0]\n",
    "epsilon = .5\n",
    "x = np.random.uniform(-1,1,size=(1,))\n",
    "N = 10**5\n",
    "numerosSaida = 10000\n",
    "\n",
    "res= AlgoritmoMetropolisHastings(\n",
    "    x,\n",
    "    FuncaoCusto,\n",
    "    N,\n",
    "    epsilon,\n",
    "    numerosSaida,\n",
    "    R=np.random.choice, # Aqui definimos uma nova função de pertubação\n",
    "    Rargs=([-1,1],) # Parâmetros da função de pertubação\n",
    ")\n",
    "\n",
    "plt.title(\"Histograma dos números gerados\")\n",
    "_ = plt.hist(res['xOut'])"
   ]
  },
  {
   "cell_type": "markdown",
   "id": "6e7ae2b9-b37b-4e15-920d-f99c4279fdd3",
   "metadata": {},
   "source": [
    "## Questão 5\n",
    "\n",
    "Pode-se utilizar o Algoritmo de Metropolis com uma função custo equivalente a $f(x)=e^{-||x||_ 2^2}$ e calcular a integral de $\\int_D ||x||_2^2dx$.\n",
    "\n",
    "O algoritmo de metropolis deve ser modificado para acrescentar uma **função de rejeição**. Essa função vai olhar o estado candidato e determinar se ele pertence a uma região válida ou não. Se o estado candidato não pertence a região válida, o algoritmo descarta o estado candidato e inicia uma nova iteração.\n",
    "\n",
    "A função de rejeição definida abaixo verifica se cada elemento do vetor $x_i$ está entre $[-1,1]$. No final, a média é ponderada em função de todos os números de saída."
   ]
  },
  {
   "cell_type": "code",
   "execution_count": 9,
   "id": "16f26381-fa3c-470d-b8b6-5f9c99e39163",
   "metadata": {},
   "outputs": [
    {
     "data": {
      "text/plain": [
       "0.23950905236367234"
      ]
     },
     "execution_count": 9,
     "metadata": {},
     "output_type": "execute_result"
    }
   ],
   "source": [
    "resultados = AlgoritmoMetropolisHastings(\n",
    "    np.random.uniform(-1,1,size=[1,]), # x0\n",
    "    DistribuicaoBoltzmann(lambda x: np.linalg.norm(x)**2,1), # pdf\n",
    "    10**4, # N\n",
    "    0.05, # epsilon\n",
    "    10**5, # nº saida\n",
    "    FuncaoRejeicao=lambda x: (np.array([-1,-1]) > x).any() or (np.array([1,1]) < x).any()\n",
    ")\n",
    "\n",
    "np.sum(np.linalg.norm(resultados['xOut'],axis=0)**2)/(10**5)"
   ]
  },
  {
   "cell_type": "markdown",
   "id": "1ef66152-15bf-4376-bdae-c693fec09470",
   "metadata": {},
   "source": [
    "### Item 5-b\n",
    "\n",
    "Para calcular o valor dessa integral, basta simplesmente substituir o termo $e^{-(x_1^2+x_2^2)}$ pelo resultado dessa distribuição, e calcular o valor da integral definida $$\\int (x^1+x^2)dx$$.\n",
    "\n",
    "## Questão 6\n",
    "\n",
    "Como temos partículas em duas dimensões, temos $x\\in\\mathbb{R}^{10}$.\n",
    "\n",
    "### Item 6-a\n",
    "\n",
    "Para isso, basta apenas definir a função de custo como o $J(x)$ citado, acrescentá-la a distribuição de Boltzmann-Gibss e utilizar a mesma função definida anteriormente. \n",
    "\n",
    "Para fins de facilitar a implementação, trabalhamos com o tensor `x`, análogo a uma matriz $X\\in\\mathbb{R}^{5\\times 2}$, para facilitar operações feitas em ordens distintas. Temos portanto que o estado pode assumir a seguinte forma:"
   ]
  },
  {
   "cell_type": "code",
   "execution_count": 10,
   "id": "1a2daf08-2ce1-4e03-87a7-d657b987ed0a",
   "metadata": {},
   "outputs": [
    {
     "name": "stdout",
     "output_type": "stream",
     "text": [
      "Tensor x0:\n",
      "[[-0.00897214  0.52716209]\n",
      " [-0.40761881 -0.32621992]\n",
      " [ 0.68620289 -0.6172871 ]\n",
      " [ 0.52002056 -0.5578415 ]\n",
      " [-0.23928795 -0.78922641]]\n",
      "\n",
      "Operação de norma quadrática no eixo das dimensões de posição das partículas\n",
      "res: [0.27798037 0.27257253 0.85191777 0.58160853 0.68013705]\n"
     ]
    }
   ],
   "source": [
    "x0 = np.random.uniform(-1,1,size=(5,2))\n",
    "print(\"Tensor x0:\")\n",
    "print(x0)\n",
    "print()\n",
    "print(\"Operação de norma quadrática no eixo das dimensões de posição das partículas\")\n",
    "print(\"res:\",np.power(np.linalg.norm(x0,axis=1),2))"
   ]
  },
  {
   "cell_type": "markdown",
   "id": "2ffdf285-ddc1-422c-8900-75f921c3c191",
   "metadata": {},
   "source": [
    "Com o tensor `x` nesse formato, calculamos a distância a origem das partículas fazendo a soma do vetor resultante anterior e calculamos as distâncias entre partículas da seguinte forma:"
   ]
  },
  {
   "cell_type": "code",
   "execution_count": 11,
   "id": "df3c4234-0eb7-416a-b296-ad3906ae84c0",
   "metadata": {},
   "outputs": [
    {
     "name": "stdout",
     "output_type": "stream",
     "text": [
      "Tensor x\n",
      "[[ 0  2]\n",
      " [-3  1]\n",
      " [ 0 -4]\n",
      " [ 3 -4]\n",
      " [-3 -4]]\n",
      "\n",
      "Distancia entre todas as combinações de partículas\n",
      "[[ 0 10 36 45 45]\n",
      " [10  0 34 61 25]\n",
      " [36 34  0  9  9]\n",
      " [45 61  9  0 36]\n",
      " [45 25  9 36  0]]\n",
      "\n",
      "Matriz triangular superior (remove duplicatas)\n",
      "[[ 0 10 36 45 45]\n",
      " [ 0  0 34 61 25]\n",
      " [ 0  0  0  9  9]\n",
      " [ 0  0  0  0 36]\n",
      " [ 0  0  0  0  0]]\n"
     ]
    }
   ],
   "source": [
    "x = np.random.randint(-4,4,size=(5,2))\n",
    "print(\"Tensor x\")\n",
    "print(x)\n",
    "print()\n",
    "\n",
    "print(\"Distancia entre todas as combinações de partículas\")\n",
    "matrizRepulsao = np.power(x[:,0][:,np.newaxis]-x[:,0][np.newaxis,:],2) + np.power(x[:,1][:,np.newaxis]-x[:,1][np.newaxis,:],2)\n",
    "print(matrizRepulsao)\n",
    "print()\n",
    "\n",
    "print(\"Matriz triangular superior (remove duplicatas)\")\n",
    "matrizRepulsao = np.triu(matrizRepulsao)\n",
    "print(matrizRepulsao)"
   ]
  },
  {
   "cell_type": "markdown",
   "id": "84aa5c10-ee6a-4743-a243-29b058567d68",
   "metadata": {},
   "source": [
    "Para o custo de repulsão é só somar os elementos da matriz acima.\n",
    "\n",
    "Com isso, temos a definição de custo e o algoritmo de metropolis que gera a distribuição com base na temperatura:"
   ]
  },
  {
   "cell_type": "code",
   "execution_count": 17,
   "id": "7fa6146c-a32d-416b-bb84-7f55e42ae3e1",
   "metadata": {},
   "outputs": [
    {
     "name": "stdout",
     "output_type": "stream",
     "text": [
      "CPU times: user 52.7 s, sys: 7.84 ms, total: 52.7 s\n",
      "Wall time: 52.7 s\n"
     ]
    }
   ],
   "source": [
    "%%time\n",
    "def Custo(x):\n",
    "    # Soma a distância à origem de todas as partículas\n",
    "    custoDistanciaOrigem = np.sum(np.power(np.linalg.norm(x,axis=1),2))\n",
    "    # Faz uma matriz que calcula a norma entre os elementos i e j\n",
    "    matrizRepulsao = np.power(x[:,0][:,np.newaxis]-x[:,0][np.newaxis,:],2) + np.power(x[:,1][:,np.newaxis]-x[:,1][np.newaxis,:],2)\n",
    "    # Filtra todos os valores repetidos (retorna só a matriz triangular superior)\n",
    "    matrizRepulsao = np.triu(matrizRepulsao)\n",
    "    # Soma os valores da matriz\n",
    "    custoRepulsao = np.sum(matrizRepulsao)\n",
    "    return custoDistanciaOrigem + 1/custoRepulsao\n",
    "\n",
    "x0 = x = np.random.randint(-2,2,size=(5,2))\n",
    "T = 10\n",
    "pdf = DistribuicaoBoltzmann(Custo,T)\n",
    "\n",
    "resultados = AlgoritmoMetropolisHastings(\n",
    "    x0, # x0\n",
    "    pdf, # pdf, que define T\n",
    "    10**6, # N\n",
    "    0.01, # epsilon\n",
    "    1, # nº saida\n",
    ")"
   ]
  },
  {
   "cell_type": "markdown",
   "id": "e10d2de2-9e43-4247-bc66-118a0bbe4696",
   "metadata": {},
   "source": [
    "Observamos a configuração das partículas:"
   ]
  },
  {
   "cell_type": "code",
   "execution_count": 18,
   "id": "a11c5bd6-f988-4a57-821c-25b45d3d4784",
   "metadata": {},
   "outputs": [
    {
     "data": {
      "text/plain": [
       "array([[ 4.17327573,  3.70203071],\n",
       "       [-1.17355183, -7.25206963],\n",
       "       [ 2.43314097, -4.75808863],\n",
       "       [ 0.5412371 , -2.75400191],\n",
       "       [-3.03102276,  2.9583606 ]])"
      ]
     },
     "execution_count": 18,
     "metadata": {},
     "output_type": "execute_result"
    },
    {
     "data": {
      "image/png": "[encoded data removed]",
      "text/plain": [
       "<Figure size 640x480 with 1 Axes>"
      ]
     },
     "metadata": {},
     "output_type": "display_data"
    }
   ],
   "source": [
    "dadosMetropolis = resultados['xMin']\n",
    "plt.scatter(dadosMetropolis[:,0],dadosMetropolis[:,1])\n",
    "dadosMetropolis"
   ]
  },
  {
   "cell_type": "markdown",
   "id": "77c387d1-fc25-4836-98a6-ae206b3eea5e",
   "metadata": {},
   "source": [
    "### Item 6-b \n",
    "\n",
    "Temos que as probabilidades são respectivamente:"
   ]
  },
  {
   "cell_type": "code",
   "execution_count": 24,
   "id": "f2016247-bcec-47cf-a634-c2ef6c983826",
   "metadata": {},
   "outputs": [
    {
     "name": "stdout",
     "output_type": "stream",
     "text": [
      "para r=1, \t temos: P_1(r)/P_2(r)=0.6065\n",
      "para r=1.1291, \t temos: P_1(r)/P_2(r)=1.1033\n"
     ]
    }
   ],
   "source": [
    "for r in [1,1.1291]:\n",
    "    p1 = np.exp(-(4*r**2+6.5/r**2))\n",
    "    p2 = np.exp(-(5*r**2+5/r**2))\n",
    "    print(f\"para r={r}, \\t temos: P_1(r)/P_2(r)={p1/p2:.4f}\")"
   ]
  },
  {
   "cell_type": "markdown",
   "id": "ffff923d-452f-4ffc-814d-1aa75e15ef05",
   "metadata": {},
   "source": [
    "## Questão 7\n",
    "\n",
    "A função de Simulated Annealing encapsula o algoritmo de metropolis e pode ser vista abaixo:"
   ]
  },
  {
   "cell_type": "code",
   "execution_count": 34,
   "id": "6162dadd-5645-4fa2-99c9-1b0b4829375b",
   "metadata": {},
   "outputs": [],
   "source": [
    "def SimulatedAnnealing(x0,Custo,T0,K=5,N=10**4,epsilon=0.01):\n",
    "    x = x0.copy()\n",
    "    T = T0\n",
    "    for k in range(K):\n",
    "        pdf = DistribuicaoBoltzmann(Custo,T)\n",
    "        resultados = AlgoritmoMetropolisHastings(\n",
    "            x, # x0\n",
    "            pdf, # pdf, que define T\n",
    "            N, # N\n",
    "            epsilon, # epsilon\n",
    "            1, # nº saida\n",
    "        )\n",
    "        x = resultados['xOut'][0]\n",
    "        T = T0/np.log(2+k)\n",
    "    return resultados['xMin']"
   ]
  },
  {
   "cell_type": "markdown",
   "id": "bc06cf27-daa7-4c77-9060-b747ea156545",
   "metadata": {},
   "source": [
    "Executando o algoritmo 10 vezes, temos:"
   ]
  },
  {
   "cell_type": "code",
   "execution_count": 36,
   "id": "2a483db3-e885-4b5d-9adc-41b52044bdf0",
   "metadata": {},
   "outputs": [
    {
     "name": "stdout",
     "output_type": "stream",
     "text": [
      "Automatic pdb calling has been turned OFF\n"
     ]
    }
   ],
   "source": [
    "%pdb off\n",
    "Custo = lambda x: (-x+100*((x-0.2)**2)*((x-0.8)**2))[0]\n",
    "\n",
    "Nres = 10\n",
    "result = np.zeros(Nres)\n",
    "for i in range(Nres):\n",
    "    print(f\"{i}/{Nres}\")\n",
    "    result[i] = SimulatedAnnealing(np.array([0]),Custo,100,N=10**5,epsilon=1e-3)[0]"
   ]
  },
  {
   "cell_type": "code",
   "execution_count": 37,
   "id": "98e593ec-5d18-466b-bd3a-f4c164601b79",
   "metadata": {},
   "outputs": [
    {
     "data": {
      "text/plain": [
       "array([ 1.77063225, -0.83049086,  1.69225122, -0.96719609, -0.74313117,\n",
       "        1.84231575,  1.85332005,  1.91324352,  1.74158516, -1.00845323])"
      ]
     },
     "execution_count": 37,
     "metadata": {},
     "output_type": "execute_result"
    }
   ],
   "source": [
    "result"
   ]
  },
  {
   "cell_type": "markdown",
   "id": "abf14b7a-a047-4d3b-ab53-3607f2f853b5",
   "metadata": {},
   "source": [
    "## Questão 8 \n",
    "\n",
    "Podemos definir uma função de 4º grau que contenha "
   ]
  }
 ],
 "metadata": {
  "kernelspec": {
   "display_name": "Python 3 (ipykernel)",
   "language": "python",
   "name": "python3"
  },
  "language_info": {
   "codemirror_mode": {
    "name": "ipython",
    "version": 3
   },
   "file_extension": ".py",
   "mimetype": "text/x-python",
   "name": "python",
   "nbconvert_exporter": "python",
   "pygments_lexer": "ipython3",
   "version": "3.9.18"
  }
 },
 "nbformat": 4,
 "nbformat_minor": 5
}
