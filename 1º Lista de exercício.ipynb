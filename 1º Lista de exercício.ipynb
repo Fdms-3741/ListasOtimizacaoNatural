{
 "cells": [
  {
   "cell_type": "markdown",
   "id": "54345f92-e926-4ad5-9264-c62d3fb5a5e6",
   "metadata": {},
   "source": [
    "# Otimização Natural - 1º Lista de exercícios\n",
    "Aluno: Fernando Dias\n",
    "\n",
    "Para essa lista de exercícios, foram utilizadas as seguintes bibliotecas:"
   ]
  },
  {
   "cell_type": "code",
   "execution_count": 2,
   "id": "8a623cac-dc1a-47a5-9db2-c3a73f7ae5ec",
   "metadata": {},
   "outputs": [],
   "source": [
    "import numpy as np\n",
    "import matplotlib.pyplot as plt\n",
    "import matplotlib.animation as animation"
   ]
  },
  {
   "cell_type": "markdown",
   "id": "646cdee2-fdce-41e8-a641-f7779389d740",
   "metadata": {},
   "source": [
    "## 1 - Método de Monte Carlo\n",
    "\n",
    "Para calcular o resultado numérico da integral $\\int_Q f(x) dx$ com o método de Monte Carlo, calcula-se a média dos valores de $f(x)$ com $x$ sendo sorteado uniformemente de $Q$. \n",
    "\n",
    "### Item 1-a\n",
    "\n",
    "Utilizando os três números dados na questão, o método de monte-carlo resulta em:"
   ]
  },
  {
   "cell_type": "code",
   "execution_count": 3,
   "id": "9235c8c4-7fa7-47d9-b8b7-2893bcf02d24",
   "metadata": {},
   "outputs": [
    {
     "data": {
      "text/plain": [
       "0.3644719103879999"
      ]
     },
     "execution_count": 3,
     "metadata": {},
     "output_type": "execute_result"
    }
   ],
   "source": [
    "# Usa os três valores dados da questão\n",
    "a = np.array([0.9501,0.2311,0.6068])\n",
    "# Aplica a função x^3 em cada resultado\n",
    "a = a**3\n",
    "# Tira o valor médio\n",
    "np.mean(a)"
   ]
  },
  {
   "cell_type": "markdown",
   "id": "c84b7301-d03d-4471-a085-44fa0899aa1e",
   "metadata": {},
   "source": [
    "### Item 1-b\n",
    "\n",
    "Dada que a distribuição utilizada é exponencial, o resultado da integração é equivalente a $\\frac{1}{N}\\sum x_i^2$ dos valores utilizados. Porém, como os limites de integração são $[0,1]$, os valores maiores que 1 devem ser descartados. Isso resulta no seguinte valor:"
   ]
  },
  {
   "cell_type": "code",
   "execution_count": 4,
   "id": "c317fbed-0359-46bb-a33c-606ba261739a",
   "metadata": {},
   "outputs": [
    {
     "data": {
      "text/plain": [
       "0.16683381543300002"
      ]
     },
     "execution_count": 4,
     "metadata": {},
     "output_type": "execute_result"
    }
   ],
   "source": [
    "a = np.array([0.0512,0.4995,0.7216])\n",
    "np.mean(a**3)"
   ]
  },
  {
   "cell_type": "markdown",
   "id": "66f2545d-0361-4fef-a9ca-818591d285cd",
   "metadata": {},
   "source": [
    "## Questão 2 - Algoritmo de metrópolis\n",
    "\n",
    "Temos $X\\in{1,2,3,4,5}$, $J(x)=(x-3)^2$ e $T=1$.\n",
    "\n",
    "### Item 2-a\n",
    "\n",
    "Os fatores de Boltzmann para cada valor de $x$ é:"
   ]
  },
  {
   "cell_type": "code",
   "execution_count": 21,
   "id": "5cfeba5f-d15d-4c60-accb-7dd7a79908eb",
   "metadata": {},
   "outputs": [
    {
     "data": {
      "text/plain": [
       "array([0.01831564, 0.36787944, 1.        , 0.36787944, 0.01831564])"
      ]
     },
     "execution_count": 21,
     "metadata": {},
     "output_type": "execute_result"
    }
   ],
   "source": [
    "T = 1\n",
    "x = np.array([1,2,3,4,5]) # Valores de X\n",
    "J = lambda x: (x-3)**2 # Função custo\n",
    "termos = np.exp(-J(x)/T) # Resultado\n",
    "termos"
   ]
  },
  {
   "cell_type": "markdown",
   "id": "7ed9c277-3df6-4e4b-8a58-a09126418513",
   "metadata": {},
   "source": [
    "### Item 2-b\n",
    "\n",
    "O algoritmo proposto serve para gerar números aleatórios que seguem qualquer distribuição discreta. Nesse caso, a distribuição de Boltzmann-Gibbs é formada com os termos $\\exp(-J(x)/T)$ que já foram calculados no item anterior. \n",
    "\n",
    "Para criar o gerador dessa distribuição, pode-se utilizar o seguinte algoritmo:"
   ]
  },
  {
   "cell_type": "code",
   "execution_count": 37,
   "id": "6800471b-8421-4c93-9765-ceea3644d95b",
   "metadata": {},
   "outputs": [
    {
     "data": {
      "text/plain": [
       "2"
      ]
     },
     "execution_count": 37,
     "metadata": {},
     "output_type": "execute_result"
    }
   ],
   "source": [
    "# Calcula-se os pesos de cada estado em termos de densidade\n",
    "densidade = termos/np.sum(termos)\n",
    "# Calcula-se a densidade cumulativa (cdf) da distribuição\n",
    "densidadeCumulativa = np.cumsum(densidade)\n",
    "# Sorteia-se um número de uma distribuição uniforme entre 0 e 1\n",
    "amostraUniforme = np.random.uniform(0,1)\n",
    "# Compara-se esse valor com o valor da CDF\n",
    "np.argmax(amostraUniforme < densidadeCumulativa)+1"
   ]
  },
  {
   "cell_type": "markdown",
   "id": "bbd3a78f-91f9-45b3-a69d-c07c826a9652",
   "metadata": {},
   "source": [
    "Ao se fazer a amostra de um número grande de números, os números resultantes seguem a distribuição desejada. \n",
    "\n",
    "Para demonstrar a funcionalidade, é feito esse método para $N=10^4$ números e é comparado o gráfico gerado pelos números aleatórios com o gráfico de densidade calculado analiticamente na questão anterior:"
   ]
  },
  {
   "cell_type": "code",
   "execution_count": 71,
   "id": "633756a6-522c-4109-add0-63632b725c0d",
   "metadata": {},
   "outputs": [
    {
     "data": {
      "text/plain": [
       "<StemContainer object of 3 artists>"
      ]
     },
     "execution_count": 71,
     "metadata": {},
     "output_type": "execute_result"
    },
    {
     "data": {
      "image/png": "[encoded data removed]",
      "text/plain": [
       "<Figure size 640x480 with 1 Axes>"
      ]
     },
     "metadata": {},
     "output_type": "display_data"
    }
   ],
   "source": [
    "# Método de geração de valores aleatórios\n",
    "# (Mesmo que a célula anterior, só que vetorialmente)\n",
    "N = 1000\n",
    "valoresUniformes = np.random.uniform(0,1,size=(N,1))\n",
    "distribuicaoFormada = np.argmax(valoresUniformes < densidadeCumulativa[np.newaxis,:],axis=1)+1\n",
    "# Conta quantos números cairam em cada estado\n",
    "valores,dist = np.unique(distribuicaoFormada,return_counts=True) \n",
    "dist = dist/np.sum(dist) # Normaliza a distribuição (calcula a densidade)\n",
    "# Gera o gráfico e insere a distribuição\n",
    "plt.grid(True)\n",
    "plt.stem(dist,basefmt=\" \")\n",
    "# Insere o resultado analítico em vermelho\n",
    "plt.stem(densidade,basefmt=\" \",markerfmt='r')"
   ]
  },
  {
   "cell_type": "markdown",
   "id": "61925fb9-144e-4c26-acc8-7b8ac23e6e61",
   "metadata": {},
   "source": [
    "### Questão 3\n",
    "\n",
    "Para gerar números cuja distribuição de energia siga a constante de boltzmann, pode-se simplesmente usar o algoritmo de metropolis. Os números são obtidos a"
   ]
  },
  {
   "cell_type": "code",
   "execution_count": 82,
   "id": "c3d12a37-1016-4890-a3bd-04686d07aa7e",
   "metadata": {},
   "outputs": [
    {
     "name": "stdout",
     "output_type": "stream",
     "text": [
      "CPU times: user 7.27 s, sys: 92.4 ms, total: 7.36 s\n",
      "Wall time: 7.21 s\n"
     ]
    }
   ],
   "source": [
    "%%time\n",
    "\n",
    "# Definição das variáveis \"globais\"\n",
    "Custo = lambda x: x**2\n",
    "epsilon = 0.1\n",
    "T = 0.1\n",
    "N = 10**3\n",
    "\n",
    "# Algoritmo de metrópolis\n",
    "def GeradorNumerosBoltzmann(x,Custo,epsilon,T,N):\n",
    "    j = Custo(x)\n",
    "    for n in range(N):\n",
    "        xhat = x + epsilon*np.random.uniform(-0.5,.5,size=x.shape)\n",
    "        jhat = Custo(xhat)\n",
    "        if jhat - j < 0:\n",
    "            x = xhat\n",
    "            j = jhat\n",
    "        else:\n",
    "            p = np.exp(-jhat/T)\n",
    "            q = np.random.uniform(0,1)\n",
    "            x = xhat if q < p else x\n",
    "            j = jhat if q < p else j\n",
    "    return x[0]\n",
    "\n",
    "M = 10**3 # quantidade de números a se tirar\n",
    "res = np.zeros(M)\n",
    "\n",
    "# Gera M números aleatórios que seguem a distribuição de Boltzmann\n",
    "for i in range(M):\n",
    "    x = np.random.uniform(-5,5,size=(1,)) # Estado inicial aleatório\n",
    "    res[i] = GeradorNumerosBoltzmann(x,Custo,epsilon,T,N)"
   ]
  },
  {
   "cell_type": "code",
   "execution_count": 84,
   "id": "a580b791-6321-4f77-a0ad-c805ace88b4f",
   "metadata": {},
   "outputs": [
    {
     "data": {
      "image/png": "[encoded data removed]",
      "text/plain": [
       "<Figure size 640x480 with 1 Axes>"
      ]
     },
     "metadata": {},
     "output_type": "display_data"
    }
   ],
   "source": [
    "valores,dist = np.unique(res,return_counts=True) \n",
    "dist = dist/np.sum(dist) # Normaliza a distribuição (calcula a densidade)\n",
    "plt.grid(True)\n",
    "_ = plt.hist(res)"
   ]
  },
  {
   "cell_type": "markdown",
   "id": "a32fee92-7042-4d3c-9ffb-1560a3ffe221",
   "metadata": {},
   "source": [
    "## Questão 4 \n",
    "\n",
    "$R\\in{0,1}$, onde $p_R(0)=p_R(1)=0.5$.\n",
    "\n",
    "### Item 4-a\n",
    "\n",
    "Nesse caso, a função custo é igual ao log"
   ]
  },
  {
   "cell_type": "markdown",
   "id": "6e7ae2b9-b37b-4e15-920d-f99c4279fdd3",
   "metadata": {},
   "source": [
    "## Questão 5\n",
    "- Fazer um gerador de números aleatórios que saia à distribuição do\n",
    "\n",
    "\n",
    "## Questão 6\n",
    "- "
   ]
  },
  {
   "cell_type": "markdown",
   "id": "ffff923d-452f-4ffc-814d-1aa75e15ef05",
   "metadata": {},
   "source": [
    "## Questão 7\n",
    "\n",
    "A função de Simulated Annealing pode ser vista abaixo:"
   ]
  },
  {
   "cell_type": "code",
   "execution_count": 1,
   "id": "4caee1a3-eb86-47a8-8a94-9fabf5a12a84",
   "metadata": {},
   "outputs": [],
   "source": [
    "def ConstantTemperatureSystem(x, FuncaoCusto, N, epsilon, T):\n",
    "    n=0\n",
    "    j = FuncaoCusto(x)\n",
    "\n",
    "    while n < N:\n",
    "        n += 1        \n",
    "        xhat = x + epsilon*np.random.uniform(-.5,.5,size=x.shape)\n",
    "        jhat = FuncaoCusto(xhat)\n",
    "        if jhat - j < 0:\n",
    "            x = xhat\n",
    "            j = jhat\n",
    "            continue\n",
    "        if np.exp(-jhat/T) > np.random.uniform(0,1):\n",
    "            x = xhat\n",
    "            j = jhat\n",
    "            continue\n",
    "    return x"
   ]
  },
  {
   "cell_type": "code",
   "execution_count": 64,
   "id": "31083822-80c9-4175-91cd-260f18f736b6",
   "metadata": {},
   "outputs": [],
   "source": [
    "x = np.random.randint(0,10,size=(6,2))\n",
    "\n",
    "def Custo(x):\n",
    "    # Média de distância ao centro\n",
    "    b = np.mean(x[:,0]**2+x[:,1]**2)\n",
    "    # Distância entre partículas\n",
    "    a = np.triu((x[:,0][:,np.newaxis]-x[:,0][np.newaxis,:])**2+(x[:,1][:,np.newaxis]-x[:,1][np.newaxis,:])**2)\n",
    "    a = np.sum(1/np.where(a == 0, np.inf, a))\n",
    "    # Custo total\n",
    "    return b + 0.1*a\n",
    "\n",
    "res = ConstantTemperatureSystem(x,Custo,10**6,0.2,10)\n",
    "    "
   ]
  },
  {
   "cell_type": "code",
   "execution_count": 65,
   "id": "4e8e3542-d418-4aff-a5f6-f2bd64e0ce35",
   "metadata": {},
   "outputs": [
    {
     "data": {
      "text/plain": [
       "array([[0, 6],\n",
       "       [2, 6],\n",
       "       [1, 6],\n",
       "       [5, 7],\n",
       "       [2, 0],\n",
       "       [0, 4]])"
      ]
     },
     "execution_count": 65,
     "metadata": {},
     "output_type": "execute_result"
    }
   ],
   "source": [
    "x"
   ]
  },
  {
   "cell_type": "code",
   "execution_count": 66,
   "id": "fe782f42-8a44-4599-ba58-b4d52707635f",
   "metadata": {},
   "outputs": [
    {
     "data": {
      "text/plain": [
       "<matplotlib.collections.PathCollection at 0x7f1dc6772a00>"
      ]
     },
     "execution_count": 66,
     "metadata": {},
     "output_type": "execute_result"
    },
    {
     "data": {
      "image/png": "[encoded data removed]",
      "text/plain": [
       "<Figure size 640x480 with 1 Axes>"
      ]
     },
     "metadata": {},
     "output_type": "display_data"
    }
   ],
   "source": [
    "plt.scatter(x[:,0],x[:,1])\n",
    "plt.scatter(res[:,0],res[:,1],color='red')"
   ]
  },
  {
   "cell_type": "code",
   "execution_count": null,
   "id": "6162dadd-5645-4fa2-99c9-1b0b4829375b",
   "metadata": {},
   "outputs": [],
   "source": []
  }
 ],
 "metadata": {
  "kernelspec": {
   "display_name": "Python 3 (ipykernel)",
   "language": "python",
   "name": "python3"
  },
  "language_info": {
   "codemirror_mode": {
    "name": "ipython",
    "version": 3
   },
   "file_extension": ".py",
   "mimetype": "text/x-python",
   "name": "python",
   "nbconvert_exporter": "python",
   "pygments_lexer": "ipython3",
   "version": "3.9.18"
  }
 },
 "nbformat": 4,
 "nbformat_minor": 5
}
