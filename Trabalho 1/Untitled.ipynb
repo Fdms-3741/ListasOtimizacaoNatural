{
 "cells": [
  {
   "cell_type": "markdown",
   "id": "461a1fa9-6144-48ad-bae3-9ac2ccd6ed4f",
   "metadata": {},
   "source": [
    "# Visualização dos resultados"
   ]
  },
  {
   "cell_type": "code",
   "execution_count": 12,
   "id": "3c58a7e1-ab92-4ed5-8007-6e5daf430709",
   "metadata": {},
   "outputs": [],
   "source": [
    "import json\n",
    "\n",
    "import numpy as np\n",
    "import pandas as pd\n",
    "import matplotlib.pyplot as plt\n",
    "import seaborn as sns\n",
    "\n",
    "from sa_tsp import Custo\n",
    "from generate_tsp import GerarProblemaTSP"
   ]
  },
  {
   "cell_type": "code",
   "execution_count": 3,
   "id": "a9002eec-a44b-4700-b94e-fe635450fa33",
   "metadata": {},
   "outputs": [],
   "source": [
    "expIdx = 10"
   ]
  },
  {
   "cell_type": "code",
   "execution_count": 4,
   "id": "1a77be3b-456b-4e3a-8e7b-abf67048348d",
   "metadata": {},
   "outputs": [],
   "source": [
    "with open(f'resultado_{expIdx}.json') as fil:\n",
    "    resultado = json.load(fil)"
   ]
  },
  {
   "cell_type": "code",
   "execution_count": 5,
   "id": "a6e8811a-2cc1-47c9-9360-877a8d4468dd",
   "metadata": {},
   "outputs": [
    {
     "data": {
      "text/plain": [
       "{'Número de cidades': 100, 'K': 10, 'N': 10000, 'T0': 10, 'epsilon': 2}"
      ]
     },
     "execution_count": 5,
     "metadata": {},
     "output_type": "execute_result"
    }
   ],
   "source": [
    "resultado['Parâmetros']"
   ]
  },
  {
   "cell_type": "code",
   "execution_count": 8,
   "id": "363992c4-c675-4685-9853-60f3a1e0aaf1",
   "metadata": {},
   "outputs": [
    {
     "data": {
      "text/plain": [
       "312.1098628755356"
      ]
     },
     "execution_count": 8,
     "metadata": {},
     "output_type": "execute_result"
    }
   ],
   "source": [
    "resultado['Resultados']['J']"
   ]
  },
  {
   "cell_type": "code",
   "execution_count": 13,
   "id": "ac36fc13-19ab-45be-9455-bc5a6a2a5eb3",
   "metadata": {},
   "outputs": [
    {
     "data": {
      "text/plain": [
       "127.26962951160775"
      ]
     },
     "execution_count": 13,
     "metadata": {},
     "output_type": "execute_result"
    }
   ],
   "source": [
    "Custo(resultado['Histórico']['X inicial'],GerarProblemaTSP(resultado['Parâmetros']['Número de cidades']))"
   ]
  },
  {
   "cell_type": "code",
   "execution_count": null,
   "id": "03e002ac-471d-4e28-bf0f-094e1f3d64ea",
   "metadata": {},
   "outputs": [],
   "source": []
  }
 ],
 "metadata": {
  "kernelspec": {
   "display_name": "Python 3 (ipykernel)",
   "language": "python",
   "name": "python3"
  },
  "language_info": {
   "codemirror_mode": {
    "name": "ipython",
    "version": 3
   },
   "file_extension": ".py",
   "mimetype": "text/x-python",
   "name": "python",
   "nbconvert_exporter": "python",
   "pygments_lexer": "ipython3",
   "version": "3.11.6"
  }
 },
 "nbformat": 4,
 "nbformat_minor": 5
}
