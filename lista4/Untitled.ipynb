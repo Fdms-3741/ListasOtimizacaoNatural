{
 "cells": [
  {
   "cell_type": "markdown",
   "id": "13d04843-1a3c-4a40-93d9-7ad3504d2bba",
   "metadata": {},
   "source": [
    "# Otimização Natural - 4ª Lista de exercícios\n",
    "\n",
    "Aluno: Fernando Dias\n",
    "\n",
    "Essa lista de exercícios faz uso de um código complementar que implementa todas as técnicas de algoritmos genéticos como classes. O código está em anexo desse pdf e também está disponível no repositório [github](https://github.com/Fdms-3741/OtimizacaoNaturalListas) como lista4.\n",
    "\n",
    "## Estrutura de código da lista\n",
    "\n",
    "Nessa seção, será feito uma breve descrição da estrutura geral do código e como ela é utilizada ao longo da \n",
    "\n",
    "A base do projeto está no arquivo e `ea.py` que implementa a classe base `EvolutionaryAlgorithm`. Essa classe define métodos abstratos que representam os passos gerais a serem tomados por qualquer algoritmo genético. São eles:\n",
    "\n",
    "* Seleção dos Pais\n",
    "* Recombinação\n",
    "* Mutação\n",
    "* Seleção dos sobreviventes\n",
    "\n",
    "Essa classe também implementa a função de execução do algoritmo evolucionário e funções auxiliares; como por exemplo para a cronometragem do algoritmo, controle de parâmetros do algoritmo e exportação dos resultados em um relatório.\n",
    "\n",
    "Classes como `GenecticAlgorithm`, `EvolutionaryStragegy` e `EvolutionaryProgramming` implementam algoritmos genéticos, estratégias evolutivas e programação evolucionária a partir da definição base de `EvolutionaryAlgorithm`. Essas classes implementam a criação de indivíduos e implementam as funções que foram definidas acima. \n",
    "\n",
    "Cada questão é programada a partir de uma das três classes apresentadas anteriormente e deve apenas implementar a função de cálculo de aptidão que é exclusiva de cada problema. Caso seja necessário, a função também pode reimplementar quaisquer funções anteriormente mencionadas.\n",
    "\n",
    "Em cada questão, serão definidos os comportamentos das funções a medida que aparecerem ou forem modificadas.\n",
    "\n",
    "## Questão 1 - Simple Genectic Algorithm (SGA) \n",
    "\n",
    "O objetivo dessa questão é otimizar a função $f(x) = x^2-0.3\\cos(10\\pi x)$. \n",
    "\n",
    "### Construção do SGA \n",
    "\n",
    "Para isso, define-se a classe `SimpleGenecticAlgorithm` que tem como operações o seguinte:\n",
    "\n",
    "* Seleção de pais: São selecionados metade dos indivíduos com base numa roleta onde a aptidão é a probabilidade de sorteio.\n",
    "* Recombinação: São sorteados $2\\mu$ pares aleatoriamente para serem recombinados. A recombinação consiste no sorteio aleatório de um trecho de bits e alternado entre os pais. Os trechos são alternados em função da probabilidade de crossover $p_c$.\n",
    "    * Exemplo: um pai é representado por $\\vec{x}=\\begin{bmatrix}x_0&x_1&x_2&x_3&x_4&x_5\\end{bmatrix}$ e outro pai é representado por $\\vec{y}=\\begin{bmatrix}y_0&y_1&y_2&y_3&y_4&y_5\\end{bmatrix}$. É sorteado que os elementos 2, 3 e 4 serão trocados entre pais. Então os filhos serão $\\vec{x}'=\\begin{bmatrix}x_0&x_1&y_2&y_3&y_4&x_5\\end{bmatrix}$ e $\\vec{y}'=\\begin{bmatrix}y_0&y_1&x_2&x_3&x_4&y_5\\end{bmatrix}$.\n",
    "* Mutação: São sorteados os filhos que vão sofrer a mutação em função de $p_m$. Para cada filho sorteado, cada bit do filho pode ser trocado ou não em função de $p_m$.\n",
    "* Seleção dos sobreviventes: Sobrevivem apenas os $\\mu$ indivíduos com maior aptidão.\n",
    "\n"
   ]
  },
  {
   "cell_type": "code",
   "execution_count": null,
   "id": "6f08074c-2c2f-4b35-9119-55b06981238a",
   "metadata": {},
   "outputs": [],
   "source": []
  }
 ],
 "metadata": {
  "kernelspec": {
   "display_name": "Python 3 (ipykernel)",
   "language": "python",
   "name": "python3"
  },
  "language_info": {
   "codemirror_mode": {
    "name": "ipython",
    "version": 3
   },
   "file_extension": ".py",
   "mimetype": "text/x-python",
   "name": "python",
   "nbconvert_exporter": "python",
   "pygments_lexer": "ipython3",
   "version": "3.9.18"
  }
 },
 "nbformat": 4,
 "nbformat_minor": 5
}
