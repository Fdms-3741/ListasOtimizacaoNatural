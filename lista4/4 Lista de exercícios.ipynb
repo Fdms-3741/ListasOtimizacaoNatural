{
 "cells": [
  {
   "cell_type": "markdown",
   "id": "13d04843-1a3c-4a40-93d9-7ad3504d2bba",
   "metadata": {},
   "source": [
    "# Otimização Natural - 4ª Lista de exercícios\n",
    "\n",
    "Aluno: Fernando Dias\n",
    "\n",
    "A primeira parte dessa lista de exercícios possui um código auxiliar escrito por mim e está disponível no repositório https://github.com/Fdms-3741/OtimizacaoNaturalLista) como lista4. \n",
    "\n",
    "A segunda parte explora o uso da biblioteca DEAP (https://deap.readthedocs.io/https://deap.readthedocs.io/) para a resolução de problemas de evolução.\n",
    "\n",
    "## Estrutura do meu código para essa lista\n",
    "\n",
    "Nessa seção, será feito uma breve descrição da estrutura geral do código e como ela é utilizada ao longo da \n",
    "\n",
    "A base do projeto está no arquivo e `ea.py` que implementa a classe base `EvolutionaryAlgorithm`. Essa classe define métodos abstratos que representam os passos gerais a serem tomados por qualquer algoritmo genético. São eles:\n",
    "\n",
    "* Seleção dos Pais\n",
    "* Recombinação\n",
    "* Mutação\n",
    "* Seleção dos sobreviventes\n",
    "\n",
    "Essa classe também implementa a função de execução do algoritmo evolucionário e funções auxiliares; como por exemplo para a cronometragem do algoritmo, controle de parâmetros do algoritmo e exportação dos resultados em um relatório.\n",
    "\n",
    "Classes como `GenecticAlgorithm`, `EvolutionaryStragegy` e `EvolutionaryProgramming` implementam algoritmos genéticos, estratégias evolutivas e programação evolucionária a partir da definição base de `EvolutionaryAlgorithm`. Essas classes implementam a criação de indivíduos e implementam as funções que foram definidas acima. \n",
    "\n",
    "Cada questão é programada a partir de uma das três classes apresentadas anteriormente e deve apenas implementar a função de cálculo de aptidão que é exclusiva de cada problema. Caso seja necessário, a função também pode reimplementar quaisquer funções anteriormente mencionadas.\n",
    "\n",
    "Em cada questão, serão definidos os comportamentos das funções a medida que aparecerem ou forem modificadas.\n",
    "\n",
    "## Questão 1 - Simple Genectic Algorithm (SGA) \n",
    "\n",
    "O objetivo dessa questão é otimizar a função $f(x) = x^2-0.3\\cos(10\\pi x)$. \n",
    "\n",
    "### Construção do SGA \n",
    "\n",
    "Para isso, define-se a classe `GenecticAlgorithm` que tem como operações o seguinte:\n",
    "\n",
    "* Seleção de pais: São selecionados metade dos indivíduos com base numa roleta onde a aptidão é a probabilidade de sorteio.\n",
    "* Recombinação: São sorteados $2\\mu$ pares aleatoriamente para serem recombinados. A recombinação consiste no sorteio aleatório de um trecho de bits e alternado entre os pais. Os trechos são alternados em função da probabilidade de crossover $p_c$.\n",
    "    * Exemplo: um pai é representado por $\\vec{x}=\\begin{bmatrix}x_0&x_1&x_2&x_3&x_4&x_5\\end{bmatrix}$ e outro pai é representado por $\\vec{y}=\\begin{bmatrix}y_0&y_1&y_2&y_3&y_4&y_5\\end{bmatrix}$. É sorteado que os elementos 2, 3 e 4 serão trocados entre pais. Então os filhos serão $\\vec{x}'=\\begin{bmatrix}x_0&x_1&y_2&y_3&y_4&x_5\\end{bmatrix}$ e $\\vec{y}'=\\begin{bmatrix}y_0&y_1&x_2&x_3&x_4&y_5\\end{bmatrix}$.\n",
    "* Mutação: São sorteados os filhos que vão sofrer a mutação em função de $p_m$. Para cada filho sorteado, cada bit do filho pode ser trocado ou não em função de $p_m$.\n",
    "* Seleção dos sobreviventes: Sobrevivem apenas os $\\mu$ indivíduos com maior aptidão.\n",
    "\n",
    "Abaixo, será demonstrado como realizar uma execução do algoritmo genético utilizando a questão 1 como exemplo. A nova classe será a `Questao1` e ela conterá a função que calcula a aptidão e retorna o resultado."
   ]
  },
  {
   "cell_type": "code",
   "execution_count": 1,
   "id": "0e8aa843-ba2e-4196-94b0-57240458ef84",
   "metadata": {},
   "outputs": [],
   "source": [
    "import numpy as np \n",
    "from sga import GeneticAlgorithm\n",
    "\n",
    "def ConvertBitsArrayToInteger(array):\n",
    "    Y,_ = np.meshgrid(np.arange(array.shape[1]),np.arange(array.shape[0]))\n",
    "    Y = 2**Y\n",
    "    result = np.where(array,Y,0)\n",
    "    return np.sum(result,axis=1)\n",
    "\n",
    "class Questao1(GeneticAlgorithm):\n",
    "    \n",
    "    def CalculateFenotypes(self,individuals):\n",
    "        \"\"\"\n",
    "        Calcula o valor de cada indivíduo\n",
    "        \"\"\"\n",
    "        values = ConvertBitsArrayToInteger(individuals)\n",
    "        values = values-2**(self.bitsSize - 1)\n",
    "        values = values/2**(self.bitsSize - 2)\n",
    "        return values\n",
    "\n",
    "    def CalculateAptitude(self,individuals):\n",
    "        \"\"\"\n",
    "        Calcula a aptidão de cada indivíduo\n",
    "        \"\"\"\n",
    "        values = self.CalculateFenotypes(individuals)\n",
    "        return - (np.power(values,2)-0.3*np.cos(10*np.pi*values))\n",
    "     "
   ]
  },
  {
   "cell_type": "markdown",
   "id": "a49527e8-d4d4-4e48-bc02-f0d318284cc7",
   "metadata": {},
   "source": [
    "Faremos 5 execuções do algoritmo para um número diferente de passos. A tabela será gerada pelo código abaixo:"
   ]
  },
  {
   "cell_type": "code",
   "execution_count": 2,
   "id": "6f08074c-2c2f-4b35-9119-55b06981238a",
   "metadata": {},
   "outputs": [
    {
     "data": {
      "text/html": [
       "<div>\n",
       "<style scoped>\n",
       "    .dataframe tbody tr th:only-of-type {\n",
       "        vertical-align: middle;\n",
       "    }\n",
       "\n",
       "    .dataframe tbody tr th {\n",
       "        vertical-align: top;\n",
       "    }\n",
       "\n",
       "    .dataframe thead th {\n",
       "        text-align: right;\n",
       "    }\n",
       "</style>\n",
       "<table border=\"1\" class=\"dataframe\">\n",
       "  <thead>\n",
       "    <tr style=\"text-align: right;\">\n",
       "      <th></th>\n",
       "      <th>mean</th>\n",
       "      <th>std</th>\n",
       "    </tr>\n",
       "    <tr>\n",
       "      <th>Passo</th>\n",
       "      <th></th>\n",
       "      <th></th>\n",
       "    </tr>\n",
       "  </thead>\n",
       "  <tbody>\n",
       "    <tr>\n",
       "      <th>1</th>\n",
       "      <td>0.298881</td>\n",
       "      <td>0.001478</td>\n",
       "    </tr>\n",
       "    <tr>\n",
       "      <th>5</th>\n",
       "      <td>0.291512</td>\n",
       "      <td>0.015399</td>\n",
       "    </tr>\n",
       "    <tr>\n",
       "      <th>10</th>\n",
       "      <td>0.295520</td>\n",
       "      <td>0.005312</td>\n",
       "    </tr>\n",
       "    <tr>\n",
       "      <th>20</th>\n",
       "      <td>0.297105</td>\n",
       "      <td>0.003823</td>\n",
       "    </tr>\n",
       "    <tr>\n",
       "      <th>40</th>\n",
       "      <td>0.298577</td>\n",
       "      <td>0.002077</td>\n",
       "    </tr>\n",
       "  </tbody>\n",
       "</table>\n",
       "</div>"
      ],
      "text/plain": [
       "           mean       std\n",
       "Passo                    \n",
       "1      0.298881  0.001478\n",
       "5      0.291512  0.015399\n",
       "10     0.295520  0.005312\n",
       "20     0.297105  0.003823\n",
       "40     0.298577  0.002077"
      ]
     },
     "execution_count": 2,
     "metadata": {},
     "output_type": "execute_result"
    }
   ],
   "source": [
    "import pandas as pd\n",
    "\n",
    "execucoes = []\n",
    "resultados = []\n",
    "for execucao in [1,5,10,20,40]:\n",
    "    for i in range(5):\n",
    "        # Parâmetros de execução\n",
    "        a = Questao1({\n",
    "            \"populationSize\": 30, # Tamanho da população\n",
    "            \"bitsSize\": 18, # Tamanho dos bits\n",
    "            \"mutationProbability\": 0.7, # Probabilidade de mutação\n",
    "            \"crossoverProbability\": 0.3, # Probabilidade de crossover\n",
    "            \"numberOfSelectedParents\":15, # Número de pais selecionados\n",
    "            \"numberOfRecombinedOffspring\":60 # Número de filhos gerados\n",
    "        })\n",
    "        a.progress = False\n",
    "        a.Execute(10) # Executa N passos\n",
    "        report = a.Report() # Expõe resultado\n",
    "        execucoes.append(execucao)\n",
    "        resultados.append(report['Results']['Best aptitude'])\n",
    "        \n",
    "resultados = pd.DataFrame({\n",
    "    'Passo':execucoes,\n",
    "    'Melhor aptidão':resultados\n",
    "})\n",
    "\n",
    "resultados.groupby('Passo')['Melhor aptidão'].describe()[['mean','std']]"
   ]
  },
  {
   "cell_type": "markdown",
   "id": "d3a280c6-75da-4ceb-81d4-c73596b63a73",
   "metadata": {},
   "source": [
    "Vemos que apenas para cinco execuções o algoritmo já tem um desempenho ótimo.\n",
    "\n",
    "## Questão 4 - Mais problemas para SGA\n",
    "\n",
    "Nessa questão, o mesmo algoritmo de SGA é utilizado em diferentes problemas. Cada uma deles será resolvido com a criação de uma nova classe que sobrescreve a função de aptidão para calcular o resultado do problema.\n",
    "\n",
    "Para o problema das $N$ rainhas e o problema do caixeiro viajante, foi criada a classe `ProblemaPermutacaoInteiros` que modifica as operações de geração de indivíduos, recombinação e mutação para suportar problemas de espaço de permutação. Essa classe implementa o _cycle crossover_ para a recombinação e faz a troca de um único elemento para a mutação. \n",
    "\n",
    "Vemos a classe implementada abaixo:"
   ]
  },
  {
   "cell_type": "code",
   "execution_count": 3,
   "id": "d32365d6-2ac4-42f7-a76f-882a1616eb83",
   "metadata": {},
   "outputs": [],
   "source": [
    "class ProblemaPermutacaoInteiros(GeneticAlgorithm):\n",
    "    \n",
    "    def GenerateIndividuals(self):\n",
    "        # Cria um vetor de N indivíduos que vai de 0 até N-1\n",
    "        Y,_ = np.meshgrid(np.arange(self.bitsSize),np.arange(self.populationSize))\n",
    "        for i in range(Y.shape[0]):\n",
    "            np.random.shuffle(Y[i])\n",
    "        self.individuals = Y\n",
    "\n",
    "    def RecombineParents(self,parent1,parent2):\n",
    "        \"\"\"\n",
    "        Implementa um cycle crossover simples: Ele apenas alterna os elementos de um único ciclo\n",
    "        \"\"\"\n",
    "        offspring = np.zeros((2,self.bitsSize))\n",
    "        cycle = np.zeros(self.bitsSize)\n",
    "        startIndex = 0\n",
    "        currentIndex = startIndex \n",
    "        while True:\n",
    "            cycle[currentIndex] = 1\n",
    "            # Qual o índice do valor no pai 1 no qual \n",
    "            #o valor é idêntico ao valor presente no indice atual do pai 2\n",
    "            currentIndex = np.argwhere(parent1 == parent2[currentIndex])[0][0]\n",
    "            # Se o índice voltou ao valor original, quebra-se o loop\n",
    "            if currentIndex == startIndex:\n",
    "                break\n",
    "        offspring[0],offspring[1] = np.where(cycle,parent1,parent2), np.where(cycle,parent2,parent1)\n",
    "        return offspring\n",
    "            \n",
    "    def Mutation(self,individuals):\n",
    "        \"\"\"\n",
    "        A mutação apenas troca a posição entre dois elementos do indivíduo, se selecionado\n",
    "        \"\"\"\n",
    "        pm = self.mutationProbability\n",
    "        mutationChoice = np.random.choice([0,1],p=[1-pm,pm],size=(individuals.shape[0]))\n",
    "        for idx in np.argwhere(mutationChoice):\n",
    "            idx = idx[0]\n",
    "            #__import__('pdb').set_trace()\n",
    "            i,j = np.random.choice(individuals.shape[1],replace=False,size=(2,))\n",
    "            individuals[idx][i], individuals[idx][j] = individuals[idx][j],individuals[idx][i]\n",
    "        return individuals"
   ]
  },
  {
   "cell_type": "markdown",
   "id": "9569c9af-acef-4026-a610-507bd8402878",
   "metadata": {},
   "source": [
    "### Problema das N rainhas\n",
    "\n",
    "O problema das N rainhas consiste em um tabuleiro de tamanho $N\\times N$ na qual se quer encontrar um posicionamento para $N$ rainhas de modo que nenhuma peça possa capturar nenhuma outra peça. \n",
    "\n",
    "Fazemos a representação desse problema na qual o tabuleiro é representado por um vetor $N$ onde cada elemento representa uma coluna. Cada elemento $i$ possui um número $j$ que representa a posição da $i$-ésima rainha está na célula $i\\times j$. Para não haver conflitos entre linhas, os elementos devem ser únicos. Assim, temos um vetor de tamanho $N$ com os números de $0$ a $N-1$ distribuídos entre os elementos, e o objetivo é permutar esses números de modo que não haja capturas possíveis nas diagonais.\n",
    "\n",
    "Para determinar se uma captura ocorre na diagonal. Deve a partir do elemento atual $x_i$ validar se os elementos a $k$ colunas de distância da colua atual são $x_i+k$ ou $x_i-k$. Soma-se toda a vez que uma captura é detectada. O ótimo portanto deve ser 0.\n",
    "\n",
    "Para esse problema, implementa-se uma nova função aptidão com a classe `ProblemaRainhas`:"
   ]
  },
  {
   "cell_type": "code",
   "execution_count": 4,
   "id": "3ef28e0c-2fbf-4f15-86ac-e6625ca4bbb5",
   "metadata": {},
   "outputs": [
    {
     "name": "stdout",
     "output_type": "stream",
     "text": [
      "Valor ótimo: 0\n",
      "Valor encontrado: 0.0\n"
     ]
    }
   ],
   "source": [
    "class ProblemaRainhas(ProblemaPermutacaoInteiros):\n",
    "    \n",
    "    def CalculateAptitude(self,individuals):\n",
    "        # Calcula aptidão com piores resultados possíveis\n",
    "        aptitudeList = np.zeros(individuals.shape[0])\n",
    "\n",
    "        # Para cada indivíduo, um custo\n",
    "        for idx, individual in enumerate(individuals):\n",
    "            cost = 0\n",
    "            # Para cada elemento\n",
    "            for posIdx, element in enumerate(individual):\n",
    "                #\n",
    "                for i in range(individual.shape[0]):\n",
    "                    if i == posIdx:\n",
    "                        continue\n",
    "                    if element == individual[i] - (i-posIdx) or element == individual[i] + (i-posIdx):\n",
    "                        cost -= 1\n",
    "\n",
    "            aptitudeList[idx] =  cost\n",
    "\n",
    "        return aptitudeList\n",
    "\n",
    "a = ProblemaRainhas({\n",
    "            \"populationSize\": 100, # Tamanho da população\n",
    "            \"bitsSize\": 8, # Tamanho dos bits\n",
    "            \"mutationProbability\": 0.7, # Probabilidade de mutação\n",
    "            \"crossoverProbability\": 0.7, # Probabilidade de crossover\n",
    "            \"numberOfSelectedParents\":50, # Número de pais selecionados\n",
    "            \"numberOfRecombinedOffspring\":300 # Número de filhos gerados\n",
    "})\n",
    "a.progress = False\n",
    "a.Execute(100) # Executa N passos\n",
    "print(\"Valor ótimo:\",0)\n",
    "print(\"Valor encontrado:\",a.Report()['Results']['Best aptitude'])"
   ]
  },
  {
   "cell_type": "markdown",
   "id": "6f3c0d64-5245-4de4-bc7e-4725a238f6e2",
   "metadata": {},
   "source": [
    "### Problema do caixeiro viajante\n",
    "\n",
    "Para o problema do caixeiro viajante, tem-se $P$ cidades na qual deve-se planejar uma rota que passe por todas elas com o menor custo possível. \n",
    "\n",
    "A representação desse problema requer também a representação do espaço permutação para resolver o problema. Nesse caso cada resposta corresponde com a ordem na qual as cidades são visitadas. O custo é calculado ao se tirar ao somar o módulo da diferença entre o vetor posição da cidade $i$ com a cidade $i+1$ para todo $i\\in\\{0,\\dots,P-1\\}$.\n",
    "\n",
    "Para testar a implementação, cria-se uma distribuição de cidades equidistantes no entorno do círculo unitário. O valor ótimo é o valor mais próximo do comprimento da circunferência."
   ]
  },
  {
   "cell_type": "code",
   "execution_count": 98,
   "id": "3a251274-1d43-4310-b6a1-78de46191bdb",
   "metadata": {},
   "outputs": [
    {
     "name": "stdout",
     "output_type": "stream",
     "text": [
      "Valor ótimo: [-6.06265087]\n",
      "Valor encontrado: -7.191855155706312\n"
     ]
    }
   ],
   "source": [
    "class CaixeiroViajante(ProblemaPermutacaoInteiros):\n",
    "    \n",
    "    def CalculateAptitude(self,individuals):\n",
    "        # Calcula aptidão com piores resultados possíveis\n",
    "        aptitudeList = np.zeros(individuals.shape[0])\n",
    "        #print(individuals)\n",
    "        # Para cada indivíduo, um custo\n",
    "        for idx, individual in enumerate(individuals):\n",
    "            aptitudeList[idx] = - np.sum(np.linalg.norm(self.posicoes[individual[1:]]-self.posicoes[individual[:-1]],axis=1))\n",
    "            \n",
    "        return aptitudeList\n",
    "        \n",
    "    def Report(self):\n",
    "        \"\"\"\n",
    "        Gera um relatório para cada execução do algoritmo\n",
    "        \"\"\"\n",
    "        report = {}\n",
    "        report['Creation time'] = float(self.creationTime)\n",
    "        report['Current execution'] = self.executeDuration\n",
    "        report['SGA Params'] = {}\n",
    "        for param in self.sgaParams:\n",
    "            report['SGA Params'][param] = float(getattr(self,param))\n",
    "        report['Results'] = {}\n",
    "        report[\"Results\"]['Best Individual'] = [int(i) for i in self.bestFitIndividual]\n",
    "        #report['Results']['Best Individual value'] = float(self.CalculateFenotypes(self.bestFitIndividual[np.newaxis,:])[0])\n",
    "        report['Results'][\"Best aptitude\"] = float(self.bestFitAptitude)\n",
    "        return report \n",
    "\n",
    "a = CaixeiroViajante({\n",
    "    \"populationSize\": 100, # Tamanho da população\n",
    "    \"bitsSize\": 30, # Tamanho dos bits\n",
    "    \"mutationProbability\": 0.7, # Probabilidade de mutação\n",
    "    \"crossoverProbability\": 0.7, # Probabilidade de crossover\n",
    "    \"numberOfSelectedParents\":50, # Número de pais selecionados\n",
    "    \"numberOfRecombinedOffspring\":300 # Número de filhos gerados\n",
    "})\n",
    "a.progress = False\n",
    "a.posicoes = np.stack([np.cos(2*np.pi*np.arange(30)/30),np.sin(2*np.pi*np.arange(30)/30)]).T\n",
    "a.Execute(1000)\n",
    "optimalValue = a.CalculateAptitude(np.arange(30)[np.newaxis,:])\n",
    "print(\"Valor ótimo:\",optimalValue)\n",
    "print(\"Valor encontrado:\",a.Report()['Results']['Best aptitude'])"
   ]
  },
  {
   "cell_type": "markdown",
   "id": "286adcf5-64fd-440f-abeb-cd1d84aa7107",
   "metadata": {},
   "source": [
    "### Problema de clusterização \n",
    "\n",
    "O problema de clusterização consiste em determinar qual o melhor particionamento de dados que minimiza a distância dos dados até os centróides. Temos que os $N$ dados tem $M$ dimensões e devem ser particionados entre $P$ clusters.\n",
    "\n",
    "Para esse problema, o espaço de decisão é numérico e consiste em um vetor $x$ de tamanho $N$ onde cada elemento indica a qual cluster um dado "
   ]
  },
  {
   "cell_type": "code",
   "execution_count": 6,
   "id": "30bae812-5abe-48c0-8e32-e58cf1bc8c25",
   "metadata": {},
   "outputs": [],
   "source": [
    "M = 2\n",
    "N = 100\n",
    "P = 10\n",
    "\n",
    "class ProblemaCluster(ProblemaPermutacaoInteiros):\n",
    "\n",
    "    def GenerateIndividuals(self):\n",
    "        self.clusters = P\n",
    "        # Cria um vetor de N indivíduos que vai de 0 até N-1\n",
    "        self.individuals = np.random.choice(self.clusters,size=(self.populationSize,self.bitsSize))\n",
    "            \n",
    "    def Mutation(self,individuals):\n",
    "        \"\"\"\n",
    "        A mutação apenas troca a posição entre dois elementos do indivíduo, se selecionado\n",
    "        \"\"\"\n",
    "        pm = self.mutationProbability\n",
    "        mutationChoice = np.random.choice([0,1],p=[1-pm,pm],size=(individuals.shape[0]))\n",
    "        for individualIdx in np.argwhere(mutationChoice):\n",
    "            individualIdx = individualIdx[0]\n",
    "            mutateValues = np.random.choice([0,1],p=[1-pm,pm],size=(individuals.shape[1]))\n",
    "            for mutationIdx in np.argwhere(mutateValues):\n",
    "                mutationIdx = mutationIdx[0]\n",
    "                individuals[individualIdx][mutationIdx] = np.random.randint(self.clusters)\n",
    "            \n",
    "        return individuals\n",
    "\n"
   ]
  },
  {
   "cell_type": "markdown",
   "id": "5d660604-d018-492f-8b96-1addd315ccdb",
   "metadata": {},
   "source": [
    "## Questão 2 - Função de Ackley\n",
    "\n",
    "Para a função a seguir, decidiu-se utilizar a biblioteca [DEAP](https://deap.readthedocs.io/en/master/) para criação de algoritmos de estratégia evolutiva para resolução da função de Ackley.\n",
    "\n",
    "A intenção de uso da biblioteca é explorar as funcionalidades para facilitar implementações futuras e auxiliar na construção de código para o trabalho.\n",
    "\n",
    "Abaixo, temos o código que fará a o seguinte:\n",
    "* Define o indivíduo e a estratégia\n",
    "* Define a função que gera o indivíduo\n",
    "* Define estratégias de recombinação e mutação como vistas em ES\n",
    "* Implementa a função de ackley como função aptidão\n",
    "* Executa o algoritmo evolucionário para 100 de população"
   ]
  },
  {
   "cell_type": "code",
   "execution_count": 103,
   "id": "242369ab-6a32-432b-b8d6-0c30801cd6eb",
   "metadata": {
    "scrolled": true
   },
   "outputs": [],
   "source": [
    "from deap import base, creator, tools, algorithms\n",
    "import random\n",
    "import array\n",
    "\n",
    "\n",
    "# Probabilidade de mutação\n",
    "pm = 0.7\n",
    "individualSize = 2\n",
    "\n",
    "\n",
    "toolbox = base.Toolbox()\n",
    "\n",
    "# Define que o problema é de minimização (objetivo invertido com peso -1)\n",
    "creator.create(\"FitnessMin\", base.Fitness, weights=(-1.0,))\n",
    "# Cria o indivíduo e separa o genótipo entre termos e estratégia, ambos são do tipo decimal\n",
    "creator.create(\"Individual\", array.array, typecode=\"d\", fitness=creator.FitnessMin, strategy=None)\n",
    "creator.create(\"Strategy\", array.array, typecode=\"d\")\n",
    "\n",
    "# Gera valores tanto para o indivíduo quanto para a estratégia\n",
    "def generateES(icls, scls, size, imin, imax, smin, smax):\n",
    "    ind = icls(random.uniform(imin, imax) for _ in range(size))\n",
    "    ind.strategy = scls(random.uniform(smin, smax) for _ in range(size))\n",
    "    return ind\n",
    "\n",
    "# Registra o indivíduo, tamanho e as fronteiras (min, max) dos valores da função e estratégias\n",
    "toolbox.register(\"individual\", generateES, creator.Individual, creator.Strategy,\n",
    "    individualSize,-31, 31, 1, 100)\n",
    "\n",
    "# Define um decorador que força um valor mínimo para a parcela de estratégia\n",
    "def checkStrategy(minstrategy):\n",
    "    def decorator(func):\n",
    "        def wrappper(*args, **kargs):\n",
    "            children = func(*args, **kargs)\n",
    "            for child in children:\n",
    "                for i, s in enumerate(child.strategy):\n",
    "                    if s < minstrategy:\n",
    "                        child.strategy[i] = minstrategy\n",
    "            return children\n",
    "        return wrappper\n",
    "    return decorator\n",
    "\n",
    "toolbox.register(\"population\", tools.initRepeat, list, toolbox.individual)\n",
    "# Estratégia de recombinação\n",
    "toolbox.register(\"mate\", tools.cxESTwoPoint)\n",
    "# Estratégia de mutação\n",
    "toolbox.register(\"mutate\", tools.mutESLogNormal, c=5.,indpb=pm)\n",
    "# Adiciona nas duas etapas a condição de valor mínimo para a estratégia\n",
    "toolbox.decorate(\"mate\", checkStrategy(0.1))\n",
    "toolbox.decorate(\"mutate\", checkStrategy(0.1))\n",
    "\n",
    "# Estratégia de seleção de sobreviventes: Roleta\n",
    "toolbox.register(\"select\",tools.selRoulette)\n",
    "def Ackley(individual):\n",
    "    a = 20\n",
    "    b = 0.2\n",
    "    c = 2*np.pi\n",
    "    ind = np.array(individual)\n",
    "    d = ind.shape[0]\n",
    "    assert d == individualSize\n",
    "    return - a * np.exp(-b*np.sqrt(np.sum(np.power(ind,2))/d)) - np.exp(np.sum(np.cos(c*ind))/d) + a + np.exp(1),\n",
    "                    \n",
    "toolbox.register('evaluate',Ackley)\n",
    "# Estratégia\n",
    "\n",
    "def main():\n",
    "    MU, LAMBDA = 30, 600\n",
    "    pop = toolbox.population(n=MU)\n",
    "    hof = tools.HallOfFame(1)\n",
    "    stats = tools.Statistics(lambda ind: ind.fitness.values)\n",
    "    stats.register(\"avg\", np.mean)\n",
    "    stats.register(\"std\", np.std)\n",
    "    stats.register(\"min\", np.min)\n",
    "    stats.register(\"max\", np.max)\n",
    "\n",
    "    pop, logbook = algorithms.eaMuCommaLambda(pop, toolbox, mu=MU, lambda_=LAMBDA, \n",
    "        cxpb=0.2, mutpb=0.8, ngen=1000, stats=stats, halloffame=hof,verbose=False)\n",
    "\n",
    "    return pop, logbook, hof\n",
    "pop,logbook,hof = main()\n"
   ]
  },
  {
   "cell_type": "markdown",
   "id": "873a4fd4-8bbd-4aff-97e2-b7b5a6cbf33b",
   "metadata": {},
   "source": [
    "No fim da execução, temos os seguintes resultados:"
   ]
  },
  {
   "cell_type": "code",
   "execution_count": 104,
   "id": "894ee0ed-1925-406d-b53b-33d2a042c619",
   "metadata": {},
   "outputs": [
    {
     "data": {
      "text/plain": [
       "Individual('d', [-1.9773074417134806, -1.2568544249106055])"
      ]
     },
     "execution_count": 104,
     "metadata": {},
     "output_type": "execute_result"
    }
   ],
   "source": [
    "# Melhor indivíduo\n",
    "hof[0]"
   ]
  },
  {
   "cell_type": "code",
   "execution_count": 105,
   "id": "a4ff04fb-cd3b-47f1-a46c-8bdcc0bf08d0",
   "metadata": {},
   "outputs": [
    {
     "data": {
      "text/plain": [
       "(6.753670595842246,)"
      ]
     },
     "execution_count": 105,
     "metadata": {},
     "output_type": "execute_result"
    }
   ],
   "source": [
    "# Valor da função ackley encontrada\n",
    "hof[0].fitness.values"
   ]
  },
  {
   "cell_type": "code",
   "execution_count": 106,
   "id": "f1549e7d-a4b1-4fdf-b771-624d30054ee6",
   "metadata": {},
   "outputs": [
    {
     "data": {
      "text/plain": [
       "Strategy('d', [3.5280882076697697, 8.62135919904436])"
      ]
     },
     "execution_count": 106,
     "metadata": {},
     "output_type": "execute_result"
    }
   ],
   "source": [
    "# Valor da estratégia\n",
    "hof[0].strategy"
   ]
  },
  {
   "cell_type": "markdown",
   "id": "3491ba68-8cd0-46bd-90bd-da5fbe43f17c",
   "metadata": {},
   "source": [
    "Vemos que o algoritmo não foi capaz de encontrar o valor ótimo, mas se aproximou consideravelmente."
   ]
  }
 ],
 "metadata": {
  "kernelspec": {
   "display_name": "Python 3 (ipykernel)",
   "language": "python",
   "name": "python3"
  },
  "language_info": {
   "codemirror_mode": {
    "name": "ipython",
    "version": 3
   },
   "file_extension": ".py",
   "mimetype": "text/x-python",
   "name": "python",
   "nbconvert_exporter": "python",
   "pygments_lexer": "ipython3",
   "version": "3.9.18"
  }
 },
 "nbformat": 4,
 "nbformat_minor": 5
}
